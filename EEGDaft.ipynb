{
  "cells": [
    {
      "cell_type": "code",
      "execution_count": null,
      "metadata": {
        "id": "qsnSVvkjHPIl"
      },
      "outputs": [],
      "source": [
        "import torch\n",
        "import torch.nn as nn \n",
        "import scipy.io as read\n",
        "import pandas as pd \n",
        "import numpy as np\n"
      ]
    },
    {
      "cell_type": "code",
      "execution_count": null,
      "metadata": {
        "id": "A17QB80zVu5E"
      },
      "outputs": [],
      "source": [
        "sad=[]\n",
        "happy=[]\n",
        "neutral=[]"
      ]
    },
    {
      "cell_type": "code",
      "execution_count": null,
      "metadata": {
        "id": "6oGhITadEYPl",
        "colab": {
          "base_uri": "https://localhost:8080/",
          "height": 487
        },
        "outputId": "0adb1ce6-0641-4299-a165-66ecdd66be6d"
      },
      "outputs": [
        {
          "output_type": "error",
          "ename": "KeyboardInterrupt",
          "evalue": "ignored",
          "traceback": [
            "\u001b[0;31m---------------------------------------------------------------------------\u001b[0m",
            "\u001b[0;31mKeyboardInterrupt\u001b[0m                         Traceback (most recent call last)",
            "\u001b[0;32m<ipython-input-6-bbaddc7c50fb>\u001b[0m in \u001b[0;36m<module>\u001b[0;34m\u001b[0m\n\u001b[1;32m     23\u001b[0m \u001b[0mneutral\u001b[0m\u001b[0;34m.\u001b[0m\u001b[0mappend\u001b[0m\u001b[0;34m(\u001b[0m\u001b[0mread\u001b[0m\u001b[0;34m.\u001b[0m\u001b[0mloadmat\u001b[0m\u001b[0;34m(\u001b[0m\u001b[0;34m'/content/drive/MyDrive/Colab_Notebooks/EEG/Preprocessed_EEG/2_20140419.mat'\u001b[0m\u001b[0;34m)\u001b[0m\u001b[0;34m)\u001b[0m\u001b[0;34m\u001b[0m\u001b[0;34m\u001b[0m\u001b[0m\n\u001b[1;32m     24\u001b[0m \u001b[0;34m\u001b[0m\u001b[0m\n\u001b[0;32m---> 25\u001b[0;31m \u001b[0mneutral\u001b[0m\u001b[0;34m.\u001b[0m\u001b[0mappend\u001b[0m\u001b[0;34m(\u001b[0m\u001b[0mread\u001b[0m\u001b[0;34m.\u001b[0m\u001b[0mloadmat\u001b[0m\u001b[0;34m(\u001b[0m\u001b[0;34m'/content/drive/MyDrive/Colab_Notebooks/EEG/Preprocessed_EEG/5_20140411.mat'\u001b[0m\u001b[0;34m)\u001b[0m\u001b[0;34m)\u001b[0m\u001b[0;34m\u001b[0m\u001b[0;34m\u001b[0m\u001b[0m\n\u001b[0m\u001b[1;32m     26\u001b[0m \u001b[0mneutral\u001b[0m\u001b[0;34m.\u001b[0m\u001b[0mappend\u001b[0m\u001b[0;34m(\u001b[0m\u001b[0mread\u001b[0m\u001b[0;34m.\u001b[0m\u001b[0mloadmat\u001b[0m\u001b[0;34m(\u001b[0m\u001b[0;34m'/content/drive/MyDrive/Colab_Notebooks/EEG/Preprocessed_EEG/5_20140418.mat'\u001b[0m\u001b[0;34m)\u001b[0m\u001b[0;34m)\u001b[0m\u001b[0;34m\u001b[0m\u001b[0;34m\u001b[0m\u001b[0m\n\u001b[1;32m     27\u001b[0m \u001b[0mneutral\u001b[0m\u001b[0;34m.\u001b[0m\u001b[0mappend\u001b[0m\u001b[0;34m(\u001b[0m\u001b[0mread\u001b[0m\u001b[0;34m.\u001b[0m\u001b[0mloadmat\u001b[0m\u001b[0;34m(\u001b[0m\u001b[0;34m'/content/drive/MyDrive/Colab_Notebooks/EEG/Preprocessed_EEG/5_20140506.mat'\u001b[0m\u001b[0;34m)\u001b[0m\u001b[0;34m)\u001b[0m\u001b[0;34m\u001b[0m\u001b[0;34m\u001b[0m\u001b[0m\n",
            "\u001b[0;32m/usr/local/lib/python3.9/dist-packages/scipy/io/matlab/_mio.py\u001b[0m in \u001b[0;36mloadmat\u001b[0;34m(file_name, mdict, appendmat, **kwargs)\u001b[0m\n\u001b[1;32m    225\u001b[0m     \u001b[0;32mwith\u001b[0m \u001b[0m_open_file_context\u001b[0m\u001b[0;34m(\u001b[0m\u001b[0mfile_name\u001b[0m\u001b[0;34m,\u001b[0m \u001b[0mappendmat\u001b[0m\u001b[0;34m)\u001b[0m \u001b[0;32mas\u001b[0m \u001b[0mf\u001b[0m\u001b[0;34m:\u001b[0m\u001b[0;34m\u001b[0m\u001b[0;34m\u001b[0m\u001b[0m\n\u001b[1;32m    226\u001b[0m         \u001b[0mMR\u001b[0m\u001b[0;34m,\u001b[0m \u001b[0m_\u001b[0m \u001b[0;34m=\u001b[0m \u001b[0mmat_reader_factory\u001b[0m\u001b[0;34m(\u001b[0m\u001b[0mf\u001b[0m\u001b[0;34m,\u001b[0m \u001b[0;34m**\u001b[0m\u001b[0mkwargs\u001b[0m\u001b[0;34m)\u001b[0m\u001b[0;34m\u001b[0m\u001b[0;34m\u001b[0m\u001b[0m\n\u001b[0;32m--> 227\u001b[0;31m         \u001b[0mmatfile_dict\u001b[0m \u001b[0;34m=\u001b[0m \u001b[0mMR\u001b[0m\u001b[0;34m.\u001b[0m\u001b[0mget_variables\u001b[0m\u001b[0;34m(\u001b[0m\u001b[0mvariable_names\u001b[0m\u001b[0;34m)\u001b[0m\u001b[0;34m\u001b[0m\u001b[0;34m\u001b[0m\u001b[0m\n\u001b[0m\u001b[1;32m    228\u001b[0m \u001b[0;34m\u001b[0m\u001b[0m\n\u001b[1;32m    229\u001b[0m     \u001b[0;32mif\u001b[0m \u001b[0mmdict\u001b[0m \u001b[0;32mis\u001b[0m \u001b[0;32mnot\u001b[0m \u001b[0;32mNone\u001b[0m\u001b[0;34m:\u001b[0m\u001b[0;34m\u001b[0m\u001b[0;34m\u001b[0m\u001b[0m\n",
            "\u001b[0;32m/usr/local/lib/python3.9/dist-packages/scipy/io/matlab/_mio5.py\u001b[0m in \u001b[0;36mget_variables\u001b[0;34m(self, variable_names)\u001b[0m\n\u001b[1;32m    330\u001b[0m                 \u001b[0;32mcontinue\u001b[0m\u001b[0;34m\u001b[0m\u001b[0;34m\u001b[0m\u001b[0m\n\u001b[1;32m    331\u001b[0m             \u001b[0;32mtry\u001b[0m\u001b[0;34m:\u001b[0m\u001b[0;34m\u001b[0m\u001b[0;34m\u001b[0m\u001b[0m\n\u001b[0;32m--> 332\u001b[0;31m                 \u001b[0mres\u001b[0m \u001b[0;34m=\u001b[0m \u001b[0mself\u001b[0m\u001b[0;34m.\u001b[0m\u001b[0mread_var_array\u001b[0m\u001b[0;34m(\u001b[0m\u001b[0mhdr\u001b[0m\u001b[0;34m,\u001b[0m \u001b[0mprocess\u001b[0m\u001b[0;34m)\u001b[0m\u001b[0;34m\u001b[0m\u001b[0;34m\u001b[0m\u001b[0m\n\u001b[0m\u001b[1;32m    333\u001b[0m             \u001b[0;32mexcept\u001b[0m \u001b[0mMatReadError\u001b[0m \u001b[0;32mas\u001b[0m \u001b[0merr\u001b[0m\u001b[0;34m:\u001b[0m\u001b[0;34m\u001b[0m\u001b[0;34m\u001b[0m\u001b[0m\n\u001b[1;32m    334\u001b[0m                 warnings.warn(\n",
            "\u001b[0;32m/usr/local/lib/python3.9/dist-packages/scipy/io/matlab/_mio5.py\u001b[0m in \u001b[0;36mread_var_array\u001b[0;34m(self, header, process)\u001b[0m\n\u001b[1;32m    290\u001b[0m            \u001b[0;31m`\u001b[0m\u001b[0mprocess\u001b[0m\u001b[0;31m`\u001b[0m\u001b[0;34m.\u001b[0m\u001b[0;34m\u001b[0m\u001b[0;34m\u001b[0m\u001b[0m\n\u001b[1;32m    291\u001b[0m         '''\n\u001b[0;32m--> 292\u001b[0;31m         \u001b[0;32mreturn\u001b[0m \u001b[0mself\u001b[0m\u001b[0;34m.\u001b[0m\u001b[0m_matrix_reader\u001b[0m\u001b[0;34m.\u001b[0m\u001b[0marray_from_header\u001b[0m\u001b[0;34m(\u001b[0m\u001b[0mheader\u001b[0m\u001b[0;34m,\u001b[0m \u001b[0mprocess\u001b[0m\u001b[0;34m)\u001b[0m\u001b[0;34m\u001b[0m\u001b[0;34m\u001b[0m\u001b[0m\n\u001b[0m\u001b[1;32m    293\u001b[0m \u001b[0;34m\u001b[0m\u001b[0m\n\u001b[1;32m    294\u001b[0m     \u001b[0;32mdef\u001b[0m \u001b[0mget_variables\u001b[0m\u001b[0;34m(\u001b[0m\u001b[0mself\u001b[0m\u001b[0;34m,\u001b[0m \u001b[0mvariable_names\u001b[0m\u001b[0;34m=\u001b[0m\u001b[0;32mNone\u001b[0m\u001b[0;34m)\u001b[0m\u001b[0;34m:\u001b[0m\u001b[0;34m\u001b[0m\u001b[0;34m\u001b[0m\u001b[0m\n",
            "\u001b[0;31mKeyboardInterrupt\u001b[0m: "
          ]
        }
      ],
      "source": [
        "\n",
        "\n",
        "sad.append(read.loadmat('/content/drive/MyDrive/Colab_Notebooks/EEG/Preprocessed_EEG/3_20140603.mat'))\n",
        "sad.append(read.loadmat('/content/drive/MyDrive/Colab_Notebooks/EEG/Preprocessed_EEG/3_20140611.mat'))\n",
        "sad.append(read.loadmat('/content/drive/MyDrive/Colab_Notebooks/EEG/Preprocessed_EEG/3_20140629.mat'))\n",
        "\n",
        "sad.append(read.loadmat('/content/drive/MyDrive/Colab_Notebooks/EEG/Preprocessed_EEG/4_20140621.mat'))\n",
        "sad.append(read.loadmat('/content/drive/MyDrive/Colab_Notebooks/EEG/Preprocessed_EEG/4_20140702.mat'))\n",
        "sad.append(read.loadmat('/content/drive/MyDrive/Colab_Notebooks/EEG/Preprocessed_EEG/4_20140705.mat'))\n",
        "\n",
        "sad.append(read.loadmat('/content/drive/MyDrive/Colab_Notebooks/EEG/Preprocessed_EEG/12_20131127.mat'))\n",
        "sad.append(read.loadmat('/content/drive/MyDrive/Colab_Notebooks/EEG/Preprocessed_EEG/12_20131201.mat'))\n",
        "sad.append(read.loadmat('/content/drive/MyDrive/Colab_Notebooks/EEG/Preprocessed_EEG/12_20131207.mat'))\n",
        "\n",
        "sad.append(read.loadmat('/content/drive/MyDrive/Colab_Notebooks/EEG/Preprocessed_EEG/15_20130709.mat'))\n",
        "sad.append(read.loadmat('/content/drive/MyDrive/Colab_Notebooks/EEG/Preprocessed_EEG/15_20131016.mat'))\n",
        "sad.append(read.loadmat('/content/drive/MyDrive/Colab_Notebooks/EEG/Preprocessed_EEG/15_20131105.mat'))\n",
        "\n",
        "sad.append(read.loadmat('/content/drive/MyDrive/Colab_Notebooks/EEG/Preprocessed_EEG/7_20131027.mat'))\n",
        "sad.append(read.loadmat('/content/drive/MyDrive/Colab_Notebooks/EEG/Preprocessed_EEG/7_20131030.mat'))\n",
        "sad.append(read.loadmat('/content/drive/MyDrive/Colab_Notebooks/EEG/Preprocessed_EEG/7_20131106.mat'))\n",
        "\n",
        "neutral.append(read.loadmat('/content/drive/MyDrive/Colab_Notebooks/EEG/Preprocessed_EEG/2_20140404.mat'))\n",
        "neutral.append(read.loadmat('/content/drive/MyDrive/Colab_Notebooks/EEG/Preprocessed_EEG/2_20140413.mat'))\n",
        "neutral.append(read.loadmat('/content/drive/MyDrive/Colab_Notebooks/EEG/Preprocessed_EEG/2_20140419.mat'))\n",
        "\n",
        "neutral.append(read.loadmat('/content/drive/MyDrive/Colab_Notebooks/EEG/Preprocessed_EEG/5_20140411.mat'))\n",
        "neutral.append(read.loadmat('/content/drive/MyDrive/Colab_Notebooks/EEG/Preprocessed_EEG/5_20140418.mat'))\n",
        "neutral.append(read.loadmat('/content/drive/MyDrive/Colab_Notebooks/EEG/Preprocessed_EEG/5_20140506.mat'))\n",
        "\n",
        "neutral.append(read.loadmat('/content/drive/MyDrive/Colab_Notebooks/EEG/Preprocessed_EEG/11_20140618.mat'))\n",
        "neutral.append(read.loadmat('/content/drive/MyDrive/Colab_Notebooks/EEG/Preprocessed_EEG/11_20140625.mat'))\n",
        "neutral.append(read.loadmat('/content/drive/MyDrive/Colab_Notebooks/EEG/Preprocessed_EEG/11_20140630.mat'))\n",
        "\n",
        "neutral.append(read.loadmat('/content/drive/MyDrive/Colab_Notebooks/EEG/Preprocessed_EEG/13_20140527.mat'))\n",
        "neutral.append(read.loadmat('/content/drive/MyDrive/Colab_Notebooks/EEG/Preprocessed_EEG/13_20140603.mat'))\n",
        "neutral.append(read.loadmat('/content/drive/MyDrive/Colab_Notebooks/EEG/Preprocessed_EEG/13_20140610.mat'))\n",
        "\n",
        "neutral.append(read.loadmat('/content/drive/MyDrive/Colab_Notebooks/EEG/Preprocessed_EEG/8_20140511.mat'))\n",
        "neutral.append(read.loadmat('/content/drive/MyDrive/Colab_Notebooks/EEG/Preprocessed_EEG/8_20140514.mat'))\n",
        "neutral.append(read.loadmat('/content/drive/MyDrive/Colab_Notebooks/EEG/Preprocessed_EEG/8_20140521.mat'))\n",
        "\n",
        "happy.append(read.loadmat('/content/drive/MyDrive/Colab_Notebooks/EEG/Preprocessed_EEG/1_20131027.mat'))\n",
        "happy.append(read.loadmat('/content/drive/MyDrive/Colab_Notebooks/EEG/Preprocessed_EEG/1_20131030.mat'))\n",
        "happy.append(read.loadmat('/content/drive/MyDrive/Colab_Notebooks/EEG/Preprocessed_EEG/1_20131107.mat'))\n",
        "\n",
        "happy.append(read.loadmat('/content/drive/MyDrive/Colab_Notebooks/EEG/Preprocessed_EEG/6_20130712.mat'))\n",
        "happy.append(read.loadmat('/content/drive/MyDrive/Colab_Notebooks/EEG/Preprocessed_EEG/6_20131016.mat'))\n",
        "happy.append(read.loadmat('/content/drive/MyDrive/Colab_Notebooks/EEG/Preprocessed_EEG/6_20131113.mat'))\n",
        "\n",
        "happy.append(read.loadmat('/content/drive/MyDrive/Colab_Notebooks/EEG/Preprocessed_EEG/9_20140620.mat'))\n",
        "happy.append(read.loadmat('/content/drive/MyDrive/Colab_Notebooks/EEG/Preprocessed_EEG/9_20140627.mat'))\n",
        "happy.append(read.loadmat('/content/drive/MyDrive/Colab_Notebooks/EEG/Preprocessed_EEG/9_20140704.mat'))\n",
        "\n",
        "happy.append(read.loadmat('/content/drive/MyDrive/Colab_Notebooks/EEG/Preprocessed_EEG/10_20131130.mat'))\n",
        "happy.append(read.loadmat('/content/drive/MyDrive/Colab_Notebooks/EEG/Preprocessed_EEG/10_20131204.mat'))\n",
        "happy.append(read.loadmat('/content/drive/MyDrive/Colab_Notebooks/EEG/Preprocessed_EEG/10_20131211.mat'))\n",
        "\n",
        "happy.append(read.loadmat('/content/drive/MyDrive/Colab_Notebooks/EEG/Preprocessed_EEG/14_20140601.mat'))\n",
        "happy.append(read.loadmat('/content/drive/MyDrive/Colab_Notebooks/EEG/Preprocessed_EEG/14_20140615.mat'))\n",
        "happy.append(read.loadmat('/content/drive/MyDrive/Colab_Notebooks/EEG/Preprocessed_EEG/14_20140627.mat'))\n",
        "\n"
      ]
    },
    {
      "cell_type": "code",
      "execution_count": null,
      "metadata": {
        "colab": {
          "base_uri": "https://localhost:8080/"
        },
        "id": "Fipd3BBAB90N",
        "outputId": "c8ad7782-c363-464b-9bb2-3fa8a21311a8"
      },
      "outputs": [
        {
          "output_type": "stream",
          "name": "stdout",
          "text": [
            "Mounted at /content/drive\n"
          ]
        }
      ],
      "source": [
        "from google.colab import drive\n",
        "drive.mount('/content/drive')"
      ]
    },
    {
      "cell_type": "code",
      "execution_count": null,
      "metadata": {
        "id": "SZFEa8f8l9j4"
      },
      "outputs": [],
      "source": [
        "\n",
        "for i in range(15):\n",
        "       result = sad[i].values()\n",
        "       data = list(result)\n",
        "       numpyArray = np.array(data,dtype='object')\n",
        "      \n",
        "       for j in range(3,18):\n",
        "               numpyArray[j]=numpyArray[j][:,0:35000]\n",
        "       for j in range(3,18):\n",
        "               numpyArray[j]=numpyArray[j].reshape(62,35000,1)\n",
        "       x=numpyArray[3]\n",
        "       for j in range(4,18):\n",
        "               x=np.concatenate((x,numpyArray[j]),axis=2)\n",
        "       if i==0:\n",
        "            y=x\n",
        "       else:\n",
        "            y=np.concatenate((y,x),axis=2)\n",
        "       \n",
        "\n",
        "print(y.shape)"
      ]
    },
    {
      "cell_type": "code",
      "execution_count": null,
      "metadata": {
        "id": "TL6A1jPvnY9A"
      },
      "outputs": [],
      "source": [
        "for i in range(15):\n",
        "       result = happy[i].values()\n",
        "       data = list(result)\n",
        "       numpyArray = np.array(data,dtype='object')\n",
        "      \n",
        "       for j in range(3,18):\n",
        "               numpyArray[j]=numpyArray[j][:,0:35000]\n",
        "       for j in range(3,18):\n",
        "               numpyArray[j]=numpyArray[j].reshape(62,35000,1)\n",
        "       x=numpyArray[3]\n",
        "       for j in range(4,18):\n",
        "               x=np.concatenate((x,numpyArray[j]),axis=2)\n",
        "       if i==0:\n",
        "            y1=x\n",
        "       else:\n",
        "            y1=np.concatenate((y1,x),axis=2)\n",
        "\n",
        "\n",
        "print(y1.shape)\n",
        "\n"
      ]
    },
    {
      "cell_type": "code",
      "execution_count": null,
      "metadata": {
        "id": "Y3Va9_ZZifi3"
      },
      "outputs": [],
      "source": [
        "y1=torch.Tensor(y1)\n",
        "torch.save(y1,\"/content/drive/MyDrive/EEG/y1.pt\")"
      ]
    },
    {
      "cell_type": "code",
      "source": [
        "import torch\n",
        "draw=torch.load(\"/content/drive/MyDrive/EEG/y1.pt\")\n"
      ],
      "metadata": {
        "id": "Km9moUWWcP_O"
      },
      "execution_count": null,
      "outputs": []
    },
    {
      "cell_type": "code",
      "source": [
        "print(draw.shape)\n",
        "print(draw[0,:,0].shape)\n"
      ],
      "metadata": {
        "colab": {
          "base_uri": "https://localhost:8080/"
        },
        "id": "wwWzc5eEcseT",
        "outputId": "1759cc7c-556c-4eec-b2a9-32c72c28cca1"
      },
      "execution_count": null,
      "outputs": [
        {
          "output_type": "stream",
          "name": "stdout",
          "text": [
            "torch.Size([62, 35000, 225])\n",
            "torch.Size([35000])\n"
          ]
        }
      ]
    },
    {
      "cell_type": "code",
      "source": [
        "import matplotlib.pyplot as plt\n",
        "plt.plot(range(len(draw[0,:,0])),draw[0,:,0])\n"
      ],
      "metadata": {
        "colab": {
          "base_uri": "https://localhost:8080/",
          "height": 282
        },
        "id": "fxOghEsAds6V",
        "outputId": "e1b2f307-eec5-4f4d-b4e7-bd5292317896"
      },
      "execution_count": null,
      "outputs": [
        {
          "output_type": "execute_result",
          "data": {
            "text/plain": [
              "[<matplotlib.lines.Line2D at 0x7fdb8bb4b970>]"
            ]
          },
          "metadata": {},
          "execution_count": 9
        },
        {
          "output_type": "display_data",
          "data": {
            "text/plain": [
              "<Figure size 432x288 with 1 Axes>"
            ],
            "image/png": "[encoded data removed]"
          },
          "metadata": {
            "needs_background": "light"
          }
        }
      ]
    },
    {
      "cell_type": "code",
      "source": [
        "plt.plot(range(len(draw[1,:,0])),draw[1,:,0])"
      ],
      "metadata": {
        "id": "ybkiiNhaehgE",
        "colab": {
          "base_uri": "https://localhost:8080/",
          "height": 282
        },
        "outputId": "1446cf07-d22e-4e8d-f287-746a1523af52"
      },
      "execution_count": null,
      "outputs": [
        {
          "output_type": "execute_result",
          "data": {
            "text/plain": [
              "[<matplotlib.lines.Line2D at 0x7fd8fe2c67c0>]"
            ]
          },
          "metadata": {},
          "execution_count": 10
        },
        {
          "output_type": "display_data",
          "data": {
            "text/plain": [
              "<Figure size 432x288 with 1 Axes>"
            ],
            "image/png": "[encoded data removed]"
          },
          "metadata": {
            "needs_background": "light"
          }
        }
      ]
    },
    {
      "cell_type": "code",
      "source": [
        "from scipy import signal\n",
        "downsampleSignal=signal.resample(draw[1,:,0],)\n"
      ],
      "metadata": {
        "id": "jiuUvT_5hOEe",
        "colab": {
          "base_uri": "https://localhost:8080/",
          "height": 182
        },
        "outputId": "99baa6fb-292a-4596-fc0a-153f58e26c73"
      },
      "execution_count": null,
      "outputs": [
        {
          "output_type": "error",
          "ename": "TypeError",
          "evalue": "ignored",
          "traceback": [
            "\u001b[0;31m---------------------------------------------------------------------------\u001b[0m",
            "\u001b[0;31mTypeError\u001b[0m                                 Traceback (most recent call last)",
            "\u001b[0;32m<ipython-input-11-017b946eea38>\u001b[0m in \u001b[0;36m<module>\u001b[0;34m\u001b[0m\n\u001b[1;32m      1\u001b[0m \u001b[0;32mfrom\u001b[0m \u001b[0mscipy\u001b[0m \u001b[0;32mimport\u001b[0m \u001b[0msignal\u001b[0m\u001b[0;34m\u001b[0m\u001b[0;34m\u001b[0m\u001b[0m\n\u001b[0;32m----> 2\u001b[0;31m \u001b[0mdownsampleSignal\u001b[0m\u001b[0;34m=\u001b[0m\u001b[0msignal\u001b[0m\u001b[0;34m.\u001b[0m\u001b[0mresample\u001b[0m\u001b[0;34m(\u001b[0m\u001b[0mdraw\u001b[0m\u001b[0;34m[\u001b[0m\u001b[0;36m1\u001b[0m\u001b[0;34m,\u001b[0m\u001b[0;34m:\u001b[0m\u001b[0;34m,\u001b[0m\u001b[0;36m0\u001b[0m\u001b[0;34m]\u001b[0m\u001b[0;34m,\u001b[0m\u001b[0;34m)\u001b[0m\u001b[0;34m\u001b[0m\u001b[0;34m\u001b[0m\u001b[0m\n\u001b[0m",
            "\u001b[0;31mTypeError\u001b[0m: resample() missing 1 required positional argument: 'num'"
          ]
        }
      ]
    },
    {
      "cell_type": "code",
      "execution_count": null,
      "metadata": {
        "id": "_otNRheDtQ0_"
      },
      "outputs": [],
      "source": [
        "\n",
        "for i in range(15):\n",
        "       result = neutral[i].values()\n",
        "       data = list(result)\n",
        "       numpyArray = np.array(data,dtype='object')\n",
        "      \n",
        "       for j in range(3,18):\n",
        "               numpyArray[j]=numpyArray[j][:,0:35000]\n",
        "       for j in range(3,18):\n",
        "               numpyArray[j]=numpyArray[j].reshape(62,35000,1)\n",
        "       x=numpyArray[3]\n",
        "       for j in range(4,18):\n",
        "               x=np.concatenate((x,numpyArray[j]),axis=2)\n",
        "       if i==0:\n",
        "            y2=x\n",
        "       else:\n",
        "            y2=np.concatenate((y2,x),axis=2)\n",
        "\n",
        "print(y2.shape)"
      ]
    },
    {
      "cell_type": "code",
      "execution_count": null,
      "metadata": {
        "id": "sAiyd1lyi-Lu"
      },
      "outputs": [],
      "source": [
        "y2=torch.Tensor(y2)\n",
        "torch.save(y2,\"/content/drive/MyDrive/EEG/y2.pt\")"
      ]
    },
    {
      "cell_type": "code",
      "execution_count": null,
      "metadata": {
        "id": "nZSH4wuXvsha"
      },
      "outputs": [],
      "source": [
        "import torch\n",
        "y=torch.load(\"/content/drive/MyDrive/EEG/y.pt\")\n",
        "y2=torch.load(\"/content/drive/MyDrive/EEG/y2.pt\")\n",
        "y1=torch.load(\"/content/drive/MyDrive/EEG/y1.pt\")\n",
        "\n",
        "input=torch.concatenate((y,y1),axis=2)\n",
        "input=torch.concatenate((input,y2),axis=2)\n"
      ]
    },
    {
      "cell_type": "code",
      "execution_count": null,
      "metadata": {
        "id": "spAnaC72v5Gm"
      },
      "outputs": [],
      "source": [
        "print(input.shape)\n",
        "input=input.reshape(675,62,35000)\n",
        "input=torch.tensor(input).type(torch.float32)"
      ]
    },
    {
      "cell_type": "code",
      "execution_count": null,
      "metadata": {
        "id": "ub40TMwAQ8Xp"
      },
      "outputs": [],
      "source": [
        "torch.save(input,\"/content/drive/MyDrive/EEG/input.pt\")\n",
        "import torch\n",
        "output=[]\n",
        "for i in range(0,225):\n",
        "     output.append(0)\n",
        "     \n",
        "for i in range(0,225):\n",
        "     output.append(2)\n",
        "for i in range(0,225):\n",
        "     output.append(1)\n",
        "output=torch.tensor(output).type(torch.LongTensor)"
      ]
    },
    {
      "cell_type": "code",
      "execution_count": null,
      "metadata": {
        "id": "qBIAuAtYj4iy"
      },
      "outputs": [],
      "source": [
        "torch.save(output,\"/content/drive/MyDrive/EEG/output.pt\")"
      ]
    },
    {
      "cell_type": "code",
      "execution_count": null,
      "metadata": {
        "id": "c4D3BTcAO_5D"
      },
      "outputs": [],
      "source": [
        "import torch.nn as nn\n",
        "import torch \n",
        "\n",
        "class Net(nn.Module):\n",
        "     def __init__(self):\n",
        "            super(Net,self).__init__()\n",
        "            self.fla=nn.Flatten()\n",
        "            self.net=nn.Sequential(\n",
        "                nn.Linear(35000*62,1024),\n",
        "                nn.BatchNorm1d(1024),\n",
        "                nn.SELU(),\n",
        "                nn.Linear(1024,1024),\n",
        "                nn.BatchNorm1d(1024),\n",
        "                nn.SELU(),\n",
        "                nn.Linear(1024,3),\n",
        "            )\n",
        "     def forward(self,x):\n",
        "           x1=self.fla(x)\n",
        "           return self.net(x1)\n",
        "\n",
        "model=Net()"
      ]
    },
    {
      "cell_type": "code",
      "execution_count": null,
      "metadata": {
        "colab": {
          "base_uri": "https://localhost:8080/",
          "height": 834,
          "referenced_widgets": [
            "9c9f66dc67c34be58097a11086504317",
            "8b318031a2e24a3a996f4163ab80fe9c",
            "b868aa5f7e204672858f7083580023c6",
            "5463c61031f74057ae7e63af71cf4c0b",
            "dd75b63ed52645368ef776ac01854676",
            "1beff2ad60e64282bc130772b5b3e01a",
            "6464287c2ace4ceab95746fa35de1315",
            "de07a6292e104a68a6e42abb5dfb7757"
          ]
        },
        "id": "STMkoAI0nPXr",
        "outputId": "745c5c9e-6662-4cc4-f3eb-b175ec2742b4"
      },
      "outputs": [
        {
          "output_type": "stream",
          "name": "stdout",
          "text": [
            "Looking in indexes: https://pypi.org/simple, https://us-python.pkg.dev/colab-wheels/public/simple/\n",
            "Requirement already satisfied: wandb in /usr/local/lib/python3.8/dist-packages (0.13.10)\n",
            "Requirement already satisfied: docker-pycreds>=0.4.0 in /usr/local/lib/python3.8/dist-packages (from wandb) (0.4.0)\n",
            "Requirement already satisfied: PyYAML in /usr/local/lib/python3.8/dist-packages (from wandb) (6.0)\n",
            "Requirement already satisfied: Click!=8.0.0,>=7.0 in /usr/local/lib/python3.8/dist-packages (from wandb) (8.1.3)\n",
            "Requirement already satisfied: pathtools in /usr/local/lib/python3.8/dist-packages (from wandb) (0.1.2)\n",
            "Requirement already satisfied: appdirs>=1.4.3 in /usr/local/lib/python3.8/dist-packages (from wandb) (1.4.4)\n",
            "Requirement already satisfied: setproctitle in /usr/local/lib/python3.8/dist-packages (from wandb) (1.3.2)\n",
            "Requirement already satisfied: sentry-sdk>=1.0.0 in /usr/local/lib/python3.8/dist-packages (from wandb) (1.16.0)\n",
            "Requirement already satisfied: typing-extensions in /usr/local/lib/python3.8/dist-packages (from wandb) (4.5.0)\n",
            "Requirement already satisfied: requests<3,>=2.0.0 in /usr/local/lib/python3.8/dist-packages (from wandb) (2.25.1)\n",
            "Requirement already satisfied: GitPython>=1.0.0 in /usr/local/lib/python3.8/dist-packages (from wandb) (3.1.31)\n",
            "Requirement already satisfied: psutil>=5.0.0 in /usr/local/lib/python3.8/dist-packages (from wandb) (5.4.8)\n",
            "Requirement already satisfied: setuptools in /usr/local/lib/python3.8/dist-packages (from wandb) (57.4.0)\n",
            "Requirement already satisfied: protobuf!=4.21.0,<5,>=3.12.0 in /usr/local/lib/python3.8/dist-packages (from wandb) (3.19.6)\n",
            "Requirement already satisfied: six>=1.4.0 in /usr/local/lib/python3.8/dist-packages (from docker-pycreds>=0.4.0->wandb) (1.15.0)\n",
            "Requirement already satisfied: gitdb<5,>=4.0.1 in /usr/local/lib/python3.8/dist-packages (from GitPython>=1.0.0->wandb) (4.0.10)\n",
            "Requirement already satisfied: certifi>=2017.4.17 in /usr/local/lib/python3.8/dist-packages (from requests<3,>=2.0.0->wandb) (2022.12.7)\n",
            "Requirement already satisfied: idna<3,>=2.5 in /usr/local/lib/python3.8/dist-packages (from requests<3,>=2.0.0->wandb) (2.10)\n",
            "Requirement already satisfied: chardet<5,>=3.0.2 in /usr/local/lib/python3.8/dist-packages (from requests<3,>=2.0.0->wandb) (4.0.0)\n",
            "Requirement already satisfied: urllib3<1.27,>=1.21.1 in /usr/local/lib/python3.8/dist-packages (from requests<3,>=2.0.0->wandb) (1.26.14)\n",
            "Requirement already satisfied: smmap<6,>=3.0.1 in /usr/local/lib/python3.8/dist-packages (from gitdb<5,>=4.0.1->GitPython>=1.0.0->wandb) (5.0.0)\n"
          ]
        },
        {
          "output_type": "display_data",
          "data": {
            "text/plain": [
              "<IPython.core.display.HTML object>"
            ],
            "text/html": [
              "Finishing last run (ID:tpaneq40) before initializing another..."
            ]
          },
          "metadata": {}
        },
        {
          "output_type": "display_data",
          "data": {
            "text/plain": [
              "<IPython.core.display.HTML object>"
            ],
            "text/html": [
              "Waiting for W&B process to finish... <strong style=\"color:green\">(success).</strong>"
            ]
          },
          "metadata": {}
        },
        {
          "output_type": "display_data",
          "data": {
            "text/plain": [
              "VBox(children=(Label(value='0.001 MB of 0.001 MB uploaded (0.000 MB deduped)\\r'), FloatProgress(value=1.0, max…"
            ],
            "application/vnd.jupyter.widget-view+json": {
              "version_major": 2,
              "version_minor": 0,
              "model_id": "9c9f66dc67c34be58097a11086504317"
            }
          },
          "metadata": {}
        },
        {
          "output_type": "display_data",
          "data": {
            "text/plain": [
              "<IPython.core.display.HTML object>"
            ],
            "text/html": [
              "<style>\n",
              "    table.wandb td:nth-child(1) { padding: 0 10px; text-align: left ; width: auto;} td:nth-child(2) {text-align: left ; width: 100%}\n",
              "    .wandb-row { display: flex; flex-direction: row; flex-wrap: wrap; justify-content: flex-start; width: 100% }\n",
              "    .wandb-col { display: flex; flex-direction: column; flex-basis: 100%; flex: 1; padding: 10px; }\n",
              "    </style>\n",
              "<div class=\"wandb-row\"><div class=\"wandb-col\"><h3>Run history:</h3><br/><table class=\"wandb\"><tr><td>train/accuracy</td><td>▁</td></tr><tr><td>train/loss</td><td>▁</td></tr></table><br/></div><div class=\"wandb-col\"><h3>Run summary:</h3><br/><table class=\"wandb\"><tr><td>train/accuracy</td><td>33.33333</td></tr><tr><td>train/loss</td><td>1.19736</td></tr></table><br/></div></div>"
            ]
          },
          "metadata": {}
        },
        {
          "output_type": "display_data",
          "data": {
            "text/plain": [
              "<IPython.core.display.HTML object>"
            ],
            "text/html": [
              " View run <strong style=\"color:#cdcd00\">final</strong> at: <a href='https://wandb.ai/duylongice2001/EEG/runs/tpaneq40' target=\"_blank\">https://wandb.ai/duylongice2001/EEG/runs/tpaneq40</a><br/>Synced 5 W&B file(s), 0 media file(s), 0 artifact file(s) and 0 other file(s)"
            ]
          },
          "metadata": {}
        },
        {
          "output_type": "display_data",
          "data": {
            "text/plain": [
              "<IPython.core.display.HTML object>"
            ],
            "text/html": [
              "Find logs at: <code>./wandb/run-20230306_160228-tpaneq40/logs</code>"
            ]
          },
          "metadata": {}
        },
        {
          "output_type": "display_data",
          "data": {
            "text/plain": [
              "<IPython.core.display.HTML object>"
            ],
            "text/html": [
              "Successfully finished last run (ID:tpaneq40). Initializing new run:<br/>"
            ]
          },
          "metadata": {}
        },
        {
          "output_type": "display_data",
          "data": {
            "text/plain": [
              "<IPython.core.display.HTML object>"
            ],
            "text/html": [
              "Tracking run with wandb version 0.13.10"
            ]
          },
          "metadata": {}
        },
        {
          "output_type": "display_data",
          "data": {
            "text/plain": [
              "<IPython.core.display.HTML object>"
            ],
            "text/html": [
              "Run data is saved locally in <code>/content/wandb/run-20230306_160712-lsjxyguz</code>"
            ]
          },
          "metadata": {}
        },
        {
          "output_type": "display_data",
          "data": {
            "text/plain": [
              "<IPython.core.display.HTML object>"
            ],
            "text/html": [
              "Syncing run <strong><a href='https://wandb.ai/duylongice2001/EEG/runs/lsjxyguz' target=\"_blank\">final2</a></strong> to <a href='https://wandb.ai/duylongice2001/EEG' target=\"_blank\">Weights & Biases</a> (<a href='https://wandb.me/run' target=\"_blank\">docs</a>)<br/>"
            ]
          },
          "metadata": {}
        },
        {
          "output_type": "display_data",
          "data": {
            "text/plain": [
              "<IPython.core.display.HTML object>"
            ],
            "text/html": [
              " View project at <a href='https://wandb.ai/duylongice2001/EEG' target=\"_blank\">https://wandb.ai/duylongice2001/EEG</a>"
            ]
          },
          "metadata": {}
        },
        {
          "output_type": "display_data",
          "data": {
            "text/plain": [
              "<IPython.core.display.HTML object>"
            ],
            "text/html": [
              " View run at <a href='https://wandb.ai/duylongice2001/EEG/runs/lsjxyguz' target=\"_blank\">https://wandb.ai/duylongice2001/EEG/runs/lsjxyguz</a>"
            ]
          },
          "metadata": {}
        },
        {
          "output_type": "execute_result",
          "data": {
            "text/html": [
              "<button onClick=\"this.nextSibling.style.display='block';this.style.display='none';\">Display W&B run</button><iframe src='https://wandb.ai/duylongice2001/EEG/runs/lsjxyguz?jupyter=true' style='border:none;width:100%;height:420px;display:none;'></iframe>"
            ],
            "text/plain": [
              "<wandb.sdk.wandb_run.Run at 0x7fb153e62550>"
            ]
          },
          "metadata": {},
          "execution_count": 11
        }
      ],
      "source": [
        "!pip install wandb\n",
        "import wandb\n",
        "wandb.init(entity=\"duylongice2001\",project=\"EEG\",name=\"final2\")"
      ]
    },
    {
      "cell_type": "code",
      "execution_count": null,
      "metadata": {
        "id": "ZgZuLQzrQta_"
      },
      "outputs": [],
      "source": [
        "from torch.utils.data import DataLoader, TensorDataset,random_split\n",
        "input=torch.load(\"/content/drive/MyDrive/EEG/input.pt\")\n",
        "output=torch.load(\"/content/drive/MyDrive/EEG/output.pt\")\n",
        "\n",
        "dataset=TensorDataset(input,output)\n",
        "print(len(dataset))\n",
        "\n",
        "total_len=len(dataset)\n",
        "\n",
        "trainLen=int(total_len*0.7)\n",
        "testLen=total_len-trainLen\n",
        "trainDataset,testDataset=random_split(dataset,[trainLen,testLen])\n",
        "print(len(trainDataset),len(testDataset))\n",
        "\n",
        "trainDataset=DataLoader(trainDataset,batch_size=64,shuffle=True)\n",
        "testDataset=DataLoader(testDataset,batch_size=32,shuffle=False)\n",
        "def train(model,lossFn,optimizer):\n",
        "        model.train()\n",
        "        for batch,(input,output) in enumerate(trainDataset):\n",
        "             accuracy=0\n",
        "             predict=model(input)\n",
        "             loss=lossFn(predict,output)\n",
        "             optimizer.zero_grad()\n",
        "             loss.backward()\n",
        "             optimizer.step()\n",
        "             accuracy+=(predict.argmax(1)==output).type(torch.float).sum().item()\n",
        "             accuracy=accuracy/len(output)\n",
        "             print(\"batch: \",batch,\"loss: \",loss.item(),\"accuracy: \",accuracy*100,'%')\n",
        "        wandb.log({\"train/loss\":loss,\"train/accuracy\":accuracy*100})\n",
        "\n",
        "\n",
        "        \n",
        "\n",
        "\n",
        "     "
      ]
    },
    {
      "cell_type": "code",
      "source": [
        "def test(model,lossFn):\n",
        "         model.eval()\n",
        "         totalAccuracy=0\n",
        "         totalLoss=0\n",
        "         totalSample=0\n",
        "         with torch.no_grad():\n",
        "                for batch,(input,output) in enumerate(testDataset):\n",
        "    \n",
        "                    predict=model(input)\n",
        "                    loss=lossFn(predict,output)\n",
        "                    totalLoss+=loss.item()*input.size(0)\n",
        "                    totalAccuracy+=(predict.argmax(1)==output).sum().item()\n",
        "                    totalSample+=input.size(0)\n",
        "  \n",
        "         lossAve=totalLoss/totalSample\n",
        "         accuracyAve=totalAccuracy/totalSample\n",
        "         wandb.log({\"test/loss\":lossAve,\"test/accuracy\":accuracyAve*100})"
      ],
      "metadata": {
        "id": "TrYxOkGOgM-c"
      },
      "execution_count": null,
      "outputs": []
    },
    {
      "cell_type": "code",
      "execution_count": null,
      "metadata": {
        "id": "L7_S2eWsT4Mq"
      },
      "outputs": [],
      "source": [
        "epoch=30\n",
        "lossFn=torch.nn.CrossEntropyLoss()\n",
        "optimizer=torch.optim.SGD(model.parameters(),lr=0.0001)\n",
        "#model.to(\"cuda:0\")\n"
      ]
    },
    {
      "cell_type": "code",
      "execution_count": null,
      "metadata": {
        "colab": {
          "base_uri": "https://localhost:8080/"
        },
        "id": "w_425dxPUHvM",
        "outputId": "90a34595-7fe1-4ec9-83e1-94162ee9a01d"
      },
      "outputs": [
        {
          "output_type": "stream",
          "name": "stdout",
          "text": [
            "train epoch  0\n",
            "batch:  0 loss:  0.768928050994873 accuracy:  68.75 %\n",
            "batch:  1 loss:  0.6770411133766174 accuracy:  68.75 %\n",
            "batch:  2 loss:  0.5826849937438965 accuracy:  82.8125 %\n",
            "batch:  3 loss:  0.5764437317848206 accuracy:  78.125 %\n",
            "batch:  4 loss:  0.5376169085502625 accuracy:  96.875 %\n",
            "batch:  5 loss:  0.594138503074646 accuracy:  78.125 %\n",
            "batch:  6 loss:  0.5580939650535583 accuracy:  82.8125 %\n",
            "batch:  7 loss:  0.6814122796058655 accuracy:  66.66666666666666 %\n",
            "test epoch  0\n",
            "train epoch  1\n",
            "batch:  0 loss:  0.6802687644958496 accuracy:  81.25 %\n",
            "batch:  1 loss:  0.5943291783332825 accuracy:  82.8125 %\n",
            "batch:  2 loss:  0.49583670496940613 accuracy:  92.1875 %\n",
            "batch:  3 loss:  0.5108538866043091 accuracy:  84.375 %\n",
            "batch:  4 loss:  0.522699236869812 accuracy:  87.5 %\n",
            "batch:  5 loss:  0.4097484350204468 accuracy:  93.75 %\n",
            "batch:  6 loss:  0.6169807314872742 accuracy:  71.875 %\n",
            "batch:  7 loss:  0.29669979214668274 accuracy:  100.0 %\n",
            "test epoch  1\n",
            "train epoch  2\n",
            "batch:  0 loss:  0.471264511346817 accuracy:  96.875 %\n",
            "batch:  1 loss:  0.4511728584766388 accuracy:  87.5 %\n",
            "batch:  2 loss:  0.43667641282081604 accuracy:  84.375 %\n",
            "batch:  3 loss:  0.45439693331718445 accuracy:  96.875 %\n",
            "batch:  4 loss:  0.4922417104244232 accuracy:  75.0 %\n",
            "batch:  5 loss:  0.49184173345565796 accuracy:  81.25 %\n",
            "batch:  6 loss:  0.36100244522094727 accuracy:  100.0 %\n",
            "batch:  7 loss:  0.7148817181587219 accuracy:  66.66666666666666 %\n",
            "test epoch  2\n",
            "train epoch  3\n",
            "batch:  0 loss:  0.4478282034397125 accuracy:  85.9375 %\n",
            "batch:  1 loss:  0.47890132665634155 accuracy:  81.25 %\n",
            "batch:  2 loss:  0.4375250041484833 accuracy:  87.5 %\n",
            "batch:  3 loss:  0.561924934387207 accuracy:  78.125 %\n",
            "batch:  4 loss:  0.400901198387146 accuracy:  92.1875 %\n",
            "batch:  5 loss:  0.4291757047176361 accuracy:  93.75 %\n",
            "batch:  6 loss:  0.29860052466392517 accuracy:  96.875 %\n",
            "batch:  7 loss:  0.22912828624248505 accuracy:  100.0 %\n",
            "test epoch  3\n",
            "train epoch  4\n",
            "batch:  0 loss:  0.42918097972869873 accuracy:  85.9375 %\n",
            "batch:  1 loss:  0.25102561712265015 accuracy:  100.0 %\n",
            "batch:  2 loss:  0.37627699971199036 accuracy:  95.3125 %\n",
            "batch:  3 loss:  0.3869546949863434 accuracy:  100.0 %\n",
            "batch:  4 loss:  0.35514265298843384 accuracy:  96.875 %\n",
            "batch:  5 loss:  0.36119934916496277 accuracy:  90.625 %\n",
            "batch:  6 loss:  0.30186372995376587 accuracy:  90.625 %\n",
            "batch:  7 loss:  0.19954298436641693 accuracy:  100.0 %\n",
            "test epoch  4\n",
            "train epoch  5\n",
            "batch:  0 loss:  0.22378772497177124 accuracy:  100.0 %\n",
            "batch:  1 loss:  0.37743282318115234 accuracy:  95.3125 %\n",
            "batch:  2 loss:  0.36465921998023987 accuracy:  96.875 %\n",
            "batch:  3 loss:  0.256671279668808 accuracy:  96.875 %\n",
            "batch:  4 loss:  0.34990066289901733 accuracy:  92.1875 %\n",
            "batch:  5 loss:  0.24204567074775696 accuracy:  100.0 %\n",
            "batch:  6 loss:  0.284840852022171 accuracy:  100.0 %\n",
            "batch:  7 loss:  0.12207793444395065 accuracy:  100.0 %\n",
            "test epoch  5\n",
            "train epoch  6\n",
            "batch:  0 loss:  0.34552308917045593 accuracy:  95.3125 %\n",
            "batch:  1 loss:  0.28650081157684326 accuracy:  100.0 %\n",
            "batch:  2 loss:  0.31489700078964233 accuracy:  100.0 %\n",
            "batch:  3 loss:  0.2768004536628723 accuracy:  95.3125 %\n",
            "batch:  4 loss:  0.23112250864505768 accuracy:  98.4375 %\n",
            "batch:  5 loss:  0.16724582016468048 accuracy:  100.0 %\n",
            "batch:  6 loss:  0.21551613509655 accuracy:  96.875 %\n",
            "batch:  7 loss:  0.19928795099258423 accuracy:  100.0 %\n",
            "test epoch  6\n",
            "train epoch  7\n",
            "batch:  0 loss:  0.19467248022556305 accuracy:  100.0 %\n",
            "batch:  1 loss:  0.2155192494392395 accuracy:  96.875 %\n",
            "batch:  2 loss:  0.24949686229228973 accuracy:  96.875 %\n",
            "batch:  3 loss:  0.3015369176864624 accuracy:  100.0 %\n",
            "batch:  4 loss:  0.19256378710269928 accuracy:  100.0 %\n",
            "batch:  5 loss:  0.2351357787847519 accuracy:  98.4375 %\n",
            "batch:  6 loss:  0.29335373640060425 accuracy:  93.75 %\n",
            "batch:  7 loss:  0.2722182273864746 accuracy:  87.5 %\n",
            "test epoch  7\n",
            "train epoch  8\n",
            "batch:  0 loss:  0.21271327137947083 accuracy:  100.0 %\n",
            "batch:  1 loss:  0.3190288245677948 accuracy:  89.0625 %\n",
            "batch:  2 loss:  0.19354340434074402 accuracy:  100.0 %\n",
            "batch:  3 loss:  0.17096982896327972 accuracy:  100.0 %\n",
            "batch:  4 loss:  0.2943588197231293 accuracy:  98.4375 %\n",
            "batch:  5 loss:  0.18050427734851837 accuracy:  100.0 %\n",
            "batch:  6 loss:  0.20973248779773712 accuracy:  96.875 %\n",
            "batch:  7 loss:  0.24702560901641846 accuracy:  91.66666666666666 %\n",
            "test epoch  8\n",
            "train epoch  9\n",
            "batch:  0 loss:  0.18749156594276428 accuracy:  100.0 %\n",
            "batch:  1 loss:  0.08945384621620178 accuracy:  100.0 %\n",
            "batch:  2 loss:  0.20347081124782562 accuracy:  98.4375 %\n",
            "batch:  3 loss:  0.13349197804927826 accuracy:  100.0 %\n",
            "batch:  4 loss:  0.20629645884037018 accuracy:  98.4375 %\n",
            "batch:  5 loss:  0.17729711532592773 accuracy:  98.4375 %\n",
            "batch:  6 loss:  0.14697080850601196 accuracy:  100.0 %\n",
            "batch:  7 loss:  0.3908092677593231 accuracy:  100.0 %\n",
            "test epoch  9\n",
            "train epoch  10\n",
            "batch:  0 loss:  0.35302114486694336 accuracy:  98.4375 %\n",
            "batch:  1 loss:  0.23505385220050812 accuracy:  93.75 %\n",
            "batch:  2 loss:  0.12180890142917633 accuracy:  100.0 %\n",
            "batch:  3 loss:  0.14923095703125 accuracy:  100.0 %\n",
            "batch:  4 loss:  0.11971145868301392 accuracy:  100.0 %\n",
            "batch:  5 loss:  0.12498188018798828 accuracy:  100.0 %\n",
            "batch:  6 loss:  0.19287109375 accuracy:  100.0 %\n",
            "batch:  7 loss:  0.09687315672636032 accuracy:  100.0 %\n",
            "test epoch  10\n",
            "train epoch  11\n",
            "batch:  0 loss:  0.25339558720588684 accuracy:  100.0 %\n",
            "batch:  1 loss:  0.08437515795230865 accuracy:  100.0 %\n",
            "batch:  2 loss:  0.2016775757074356 accuracy:  100.0 %\n",
            "batch:  3 loss:  0.18008913099765778 accuracy:  100.0 %\n",
            "batch:  4 loss:  0.12183459848165512 accuracy:  100.0 %\n",
            "batch:  5 loss:  0.10519283264875412 accuracy:  100.0 %\n",
            "batch:  6 loss:  0.15427081286907196 accuracy:  100.0 %\n",
            "batch:  7 loss:  0.3203173577785492 accuracy:  83.33333333333334 %\n",
            "test epoch  11\n",
            "train epoch  12\n",
            "batch:  0 loss:  0.16282157599925995 accuracy:  98.4375 %\n",
            "batch:  1 loss:  0.09347789734601974 accuracy:  100.0 %\n",
            "batch:  2 loss:  0.14207081496715546 accuracy:  100.0 %\n",
            "batch:  3 loss:  0.325971782207489 accuracy:  93.75 %\n",
            "batch:  4 loss:  0.1372571438550949 accuracy:  100.0 %\n",
            "batch:  5 loss:  0.14264635741710663 accuracy:  98.4375 %\n",
            "batch:  6 loss:  0.13043372333049774 accuracy:  100.0 %\n",
            "batch:  7 loss:  0.02247091941535473 accuracy:  100.0 %\n",
            "test epoch  12\n",
            "train epoch  13\n",
            "batch:  0 loss:  0.096981942653656 accuracy:  100.0 %\n",
            "batch:  1 loss:  0.049150217324495316 accuracy:  100.0 %\n",
            "batch:  2 loss:  0.199712872505188 accuracy:  100.0 %\n",
            "batch:  3 loss:  0.1025354191660881 accuracy:  100.0 %\n",
            "batch:  4 loss:  0.12945857644081116 accuracy:  100.0 %\n",
            "batch:  5 loss:  0.09902680665254593 accuracy:  100.0 %\n",
            "batch:  6 loss:  0.10723234713077545 accuracy:  100.0 %\n",
            "batch:  7 loss:  0.13152965903282166 accuracy:  100.0 %\n",
            "test epoch  13\n",
            "train epoch  14\n",
            "batch:  0 loss:  0.1476726531982422 accuracy:  100.0 %\n",
            "batch:  1 loss:  0.12789911031723022 accuracy:  98.4375 %\n",
            "batch:  2 loss:  0.07026726752519608 accuracy:  100.0 %\n",
            "batch:  3 loss:  0.2061154842376709 accuracy:  98.4375 %\n",
            "batch:  4 loss:  0.10437067598104477 accuracy:  100.0 %\n",
            "batch:  5 loss:  0.1387309730052948 accuracy:  100.0 %\n",
            "batch:  6 loss:  0.08302226662635803 accuracy:  100.0 %\n",
            "batch:  7 loss:  0.13076657056808472 accuracy:  100.0 %\n",
            "test epoch  14\n",
            "train epoch  15\n",
            "batch:  0 loss:  0.05246848613023758 accuracy:  100.0 %\n",
            "batch:  1 loss:  0.05670876055955887 accuracy:  100.0 %\n",
            "batch:  2 loss:  0.038488756865262985 accuracy:  100.0 %\n",
            "batch:  3 loss:  0.05326279252767563 accuracy:  100.0 %\n",
            "batch:  4 loss:  0.096981480717659 accuracy:  100.0 %\n",
            "batch:  5 loss:  0.23599199950695038 accuracy:  100.0 %\n",
            "batch:  6 loss:  0.15798242390155792 accuracy:  98.4375 %\n",
            "batch:  7 loss:  0.14236870408058167 accuracy:  100.0 %\n",
            "test epoch  15\n",
            "train epoch  16\n",
            "batch:  0 loss:  0.08701188862323761 accuracy:  100.0 %\n",
            "batch:  1 loss:  0.14033755660057068 accuracy:  98.4375 %\n",
            "batch:  2 loss:  0.17302805185317993 accuracy:  100.0 %\n",
            "batch:  3 loss:  0.10288088768720627 accuracy:  100.0 %\n",
            "batch:  4 loss:  0.032425761222839355 accuracy:  100.0 %\n",
            "batch:  5 loss:  0.11043348908424377 accuracy:  100.0 %\n",
            "batch:  6 loss:  0.05938122048974037 accuracy:  100.0 %\n",
            "batch:  7 loss:  0.06306418031454086 accuracy:  100.0 %\n",
            "test epoch  16\n",
            "train epoch  17\n",
            "batch:  0 loss:  0.057327695190906525 accuracy:  100.0 %\n",
            "batch:  1 loss:  0.0531814768910408 accuracy:  100.0 %\n",
            "batch:  2 loss:  0.028995130211114883 accuracy:  100.0 %\n",
            "batch:  3 loss:  0.0619422011077404 accuracy:  100.0 %\n",
            "batch:  4 loss:  0.1387186348438263 accuracy:  100.0 %\n",
            "batch:  5 loss:  0.17918357253074646 accuracy:  100.0 %\n",
            "batch:  6 loss:  0.21264061331748962 accuracy:  100.0 %\n",
            "batch:  7 loss:  0.048110827803611755 accuracy:  100.0 %\n",
            "test epoch  17\n",
            "train epoch  18\n",
            "batch:  0 loss:  0.17061734199523926 accuracy:  100.0 %\n",
            "batch:  1 loss:  0.056150469928979874 accuracy:  100.0 %\n",
            "batch:  2 loss:  0.06168770417571068 accuracy:  100.0 %\n",
            "batch:  3 loss:  0.04054439812898636 accuracy:  100.0 %\n",
            "batch:  4 loss:  0.08158008754253387 accuracy:  100.0 %\n",
            "batch:  5 loss:  0.10179039090871811 accuracy:  100.0 %\n",
            "batch:  6 loss:  0.11847243458032608 accuracy:  100.0 %\n",
            "batch:  7 loss:  0.03141281381249428 accuracy:  100.0 %\n",
            "test epoch  18\n",
            "train epoch  19\n",
            "batch:  0 loss:  0.045992642641067505 accuracy:  100.0 %\n",
            "batch:  1 loss:  0.05157166346907616 accuracy:  100.0 %\n",
            "batch:  2 loss:  0.09132484346628189 accuracy:  100.0 %\n",
            "batch:  3 loss:  0.020498719066381454 accuracy:  100.0 %\n",
            "batch:  4 loss:  0.1479051560163498 accuracy:  98.4375 %\n",
            "batch:  5 loss:  0.07022585719823837 accuracy:  100.0 %\n",
            "batch:  6 loss:  0.22248347103595734 accuracy:  98.4375 %\n",
            "batch:  7 loss:  0.05635344609618187 accuracy:  100.0 %\n",
            "test epoch  19\n",
            "train epoch  20\n",
            "batch:  0 loss:  0.022714054211974144 accuracy:  100.0 %\n",
            "batch:  1 loss:  0.023951455950737 accuracy:  100.0 %\n",
            "batch:  2 loss:  0.07380867004394531 accuracy:  100.0 %\n",
            "batch:  3 loss:  0.037636976689100266 accuracy:  100.0 %\n",
            "batch:  4 loss:  0.035996709018945694 accuracy:  100.0 %\n",
            "batch:  5 loss:  0.0990520715713501 accuracy:  98.4375 %\n",
            "batch:  6 loss:  0.24934029579162598 accuracy:  100.0 %\n",
            "batch:  7 loss:  0.02150009572505951 accuracy:  100.0 %\n",
            "test epoch  20\n",
            "train epoch  21\n",
            "batch:  0 loss:  0.021428605541586876 accuracy:  100.0 %\n",
            "batch:  1 loss:  0.043435174971818924 accuracy:  100.0 %\n",
            "batch:  2 loss:  0.08004666119813919 accuracy:  100.0 %\n",
            "batch:  3 loss:  0.08558709174394608 accuracy:  100.0 %\n",
            "batch:  4 loss:  0.12245927006006241 accuracy:  100.0 %\n",
            "batch:  5 loss:  0.047508664429187775 accuracy:  100.0 %\n",
            "batch:  6 loss:  0.09689993411302567 accuracy:  100.0 %\n",
            "batch:  7 loss:  0.017382865771651268 accuracy:  100.0 %\n",
            "test epoch  21\n",
            "train epoch  22\n",
            "batch:  0 loss:  0.00959747564047575 accuracy:  100.0 %\n",
            "batch:  1 loss:  0.05596715584397316 accuracy:  100.0 %\n",
            "batch:  2 loss:  0.04958682879805565 accuracy:  100.0 %\n",
            "batch:  3 loss:  0.14414523541927338 accuracy:  100.0 %\n",
            "batch:  4 loss:  0.071581169962883 accuracy:  100.0 %\n",
            "batch:  5 loss:  0.13201047480106354 accuracy:  100.0 %\n",
            "batch:  6 loss:  0.05595674365758896 accuracy:  100.0 %\n",
            "batch:  7 loss:  0.0277494415640831 accuracy:  100.0 %\n",
            "test epoch  22\n",
            "train epoch  23\n",
            "batch:  0 loss:  0.14243526756763458 accuracy:  100.0 %\n",
            "batch:  1 loss:  0.028479257598519325 accuracy:  100.0 %\n",
            "batch:  2 loss:  0.04594238102436066 accuracy:  100.0 %\n",
            "batch:  3 loss:  0.022766919806599617 accuracy:  100.0 %\n",
            "batch:  4 loss:  0.0369420163333416 accuracy:  100.0 %\n",
            "batch:  5 loss:  0.0849180519580841 accuracy:  100.0 %\n",
            "batch:  6 loss:  0.07508693635463715 accuracy:  98.4375 %\n",
            "batch:  7 loss:  0.054862286895513535 accuracy:  100.0 %\n",
            "test epoch  23\n",
            "train epoch  24\n",
            "batch:  0 loss:  0.03458100184798241 accuracy:  100.0 %\n",
            "batch:  1 loss:  0.021205570548772812 accuracy:  100.0 %\n",
            "batch:  2 loss:  0.05018265172839165 accuracy:  100.0 %\n",
            "batch:  3 loss:  0.1974509209394455 accuracy:  98.4375 %\n",
            "batch:  4 loss:  0.030043456703424454 accuracy:  100.0 %\n",
            "batch:  5 loss:  0.045302920043468475 accuracy:  100.0 %\n",
            "batch:  6 loss:  0.05301952734589577 accuracy:  100.0 %\n",
            "batch:  7 loss:  0.02314215712249279 accuracy:  100.0 %\n",
            "test epoch  24\n",
            "train epoch  25\n",
            "batch:  0 loss:  0.17901985347270966 accuracy:  100.0 %\n",
            "batch:  1 loss:  0.024506866931915283 accuracy:  100.0 %\n",
            "batch:  2 loss:  0.014827931299805641 accuracy:  100.0 %\n",
            "batch:  3 loss:  0.06667527556419373 accuracy:  100.0 %\n",
            "batch:  4 loss:  0.0985688790678978 accuracy:  100.0 %\n",
            "batch:  5 loss:  0.028210068121552467 accuracy:  100.0 %\n",
            "batch:  6 loss:  0.024402562528848648 accuracy:  100.0 %\n",
            "batch:  7 loss:  0.06189402565360069 accuracy:  100.0 %\n",
            "test epoch  25\n",
            "train epoch  26\n",
            "batch:  0 loss:  0.1428488940000534 accuracy:  98.4375 %\n",
            "batch:  1 loss:  0.03216378390789032 accuracy:  100.0 %\n",
            "batch:  2 loss:  0.02155899815261364 accuracy:  100.0 %\n",
            "batch:  3 loss:  0.02454514242708683 accuracy:  100.0 %\n",
            "batch:  4 loss:  0.08826526999473572 accuracy:  100.0 %\n",
            "batch:  5 loss:  0.04357435181736946 accuracy:  100.0 %\n",
            "batch:  6 loss:  0.05784391239285469 accuracy:  100.0 %\n",
            "batch:  7 loss:  0.032409317791461945 accuracy:  100.0 %\n",
            "test epoch  26\n",
            "train epoch  27\n",
            "batch:  0 loss:  0.078055739402771 accuracy:  100.0 %\n",
            "batch:  1 loss:  0.021572472527623177 accuracy:  100.0 %\n",
            "batch:  2 loss:  0.046672921627759933 accuracy:  100.0 %\n",
            "batch:  3 loss:  0.007824385538697243 accuracy:  100.0 %\n",
            "batch:  4 loss:  0.14560480415821075 accuracy:  100.0 %\n",
            "batch:  5 loss:  0.015241788700222969 accuracy:  100.0 %\n",
            "batch:  6 loss:  0.041007861495018005 accuracy:  100.0 %\n",
            "batch:  7 loss:  0.03488966450095177 accuracy:  100.0 %\n",
            "test epoch  27\n",
            "train epoch  28\n",
            "batch:  0 loss:  0.04799354821443558 accuracy:  100.0 %\n",
            "batch:  1 loss:  0.07487839460372925 accuracy:  100.0 %\n",
            "batch:  2 loss:  0.049341171979904175 accuracy:  100.0 %\n",
            "batch:  3 loss:  0.01924511417746544 accuracy:  100.0 %\n",
            "batch:  4 loss:  0.03469034656882286 accuracy:  100.0 %\n",
            "batch:  5 loss:  0.05334459990262985 accuracy:  100.0 %\n",
            "batch:  6 loss:  0.033023349940776825 accuracy:  100.0 %\n",
            "batch:  7 loss:  0.021208221092820168 accuracy:  100.0 %\n",
            "test epoch  28\n",
            "train epoch  29\n",
            "batch:  0 loss:  0.09231360256671906 accuracy:  100.0 %\n",
            "batch:  1 loss:  0.07539138197898865 accuracy:  100.0 %\n",
            "batch:  2 loss:  0.01885411888360977 accuracy:  100.0 %\n",
            "batch:  3 loss:  0.08386477082967758 accuracy:  98.4375 %\n",
            "batch:  4 loss:  0.03552965074777603 accuracy:  100.0 %\n",
            "batch:  5 loss:  0.012804199010133743 accuracy:  100.0 %\n",
            "batch:  6 loss:  0.008437689393758774 accuracy:  100.0 %\n",
            "batch:  7 loss:  0.016984395682811737 accuracy:  100.0 %\n",
            "test epoch  29\n"
          ]
        }
      ],
      "source": [
        "for i in range(epoch):\n",
        "     print(\"train epoch \",i)\n",
        "     train(model,lossFn,optimizer)\n",
        "     print(\"test epoch \",i)\n",
        "     test(model,lossFn)\n"
      ]
    },
    {
      "cell_type": "code",
      "source": [
        "for i in range(epoch):\n",
        "     test(model,lossFn)"
      ],
      "metadata": {
        "id": "KwVbku0mgRi2"
      },
      "execution_count": null,
      "outputs": []
    },
    {
      "cell_type": "code",
      "source": [
        "torch.save(model.state_dict(),\"/content/drive/MyDrive/EEG/parameter.pt\")"
      ],
      "metadata": {
        "id": "Txu-jqk4m3YO"
      },
      "execution_count": null,
      "outputs": []
    },
    {
      "cell_type": "code",
      "source": [
        "\n",
        "\n",
        "model.eval()\n",
        "for epoch in range(30):   # Iterate over the test dataset\n",
        "    test_loss = 0\n",
        "correct = 0\n",
        "    with torch.no_grad():\n",
        "        for inputs, labels in testDataset:\n",
        "            # Forward pass\n",
        "            outputs = model(inputs)\n",
        "            loss = lossFn(outputs, labels)\n",
        "\n",
        "            # Update the loss\n",
        "            test_loss += loss.item() * inputs.size(0)\n",
        "            # Update the accuracy\n",
        "            correct += (outputs.argmax(1) == labels).sum().item()\n",
        "\n",
        "    # Compute the average test loss and accuracy\n",
        "    test_loss /= 203\n",
        "    accuracy = correct / 203\n",
        "\n",
        "    # Print the epoch, test loss, and accuracy\n",
        "    print('Epoch: {}, Test Loss: {:.4f}, Accuracy: {:.2f}'.format(epoch+1, test_loss, 100*accuracy))\n",
        "\n",
        "\n",
        "\n",
        "\n",
        "\n"
      ],
      "metadata": {
        "colab": {
          "base_uri": "https://localhost:8080/",
          "height": 467
        },
        "id": "7y4UUQTZhh1p",
        "outputId": "e3ceaecd-e282-438c-e088-b1f9a74e0a0a"
      },
      "execution_count": null,
      "outputs": [
        {
          "output_type": "stream",
          "name": "stdout",
          "text": [
            "Epoch: 1, Test Loss: 1.3062, Accuracy: 37.93\n",
            "Epoch: 2, Test Loss: 1.3062, Accuracy: 37.93\n",
            "Epoch: 3, Test Loss: 1.3062, Accuracy: 37.93\n",
            "Epoch: 4, Test Loss: 1.3062, Accuracy: 37.93\n"
          ]
        },
        {
          "output_type": "error",
          "ename": "KeyboardInterrupt",
          "evalue": "ignored",
          "traceback": [
            "\u001b[0;31m---------------------------------------------------------------------------\u001b[0m",
            "\u001b[0;31mKeyboardInterrupt\u001b[0m                         Traceback (most recent call last)",
            "\u001b[0;32m<ipython-input-35-3e589c49b00c>\u001b[0m in \u001b[0;36m<module>\u001b[0;34m\u001b[0m\n\u001b[1;32m      6\u001b[0m         \u001b[0;32mfor\u001b[0m \u001b[0minputs\u001b[0m\u001b[0;34m,\u001b[0m \u001b[0mlabels\u001b[0m \u001b[0;32min\u001b[0m \u001b[0mtestDataset\u001b[0m\u001b[0;34m:\u001b[0m\u001b[0;34m\u001b[0m\u001b[0;34m\u001b[0m\u001b[0m\n\u001b[1;32m      7\u001b[0m             \u001b[0;31m# Forward pass\u001b[0m\u001b[0;34m\u001b[0m\u001b[0;34m\u001b[0m\u001b[0;34m\u001b[0m\u001b[0m\n\u001b[0;32m----> 8\u001b[0;31m             \u001b[0moutputs\u001b[0m \u001b[0;34m=\u001b[0m \u001b[0mmodel\u001b[0m\u001b[0;34m(\u001b[0m\u001b[0minputs\u001b[0m\u001b[0;34m)\u001b[0m\u001b[0;34m\u001b[0m\u001b[0;34m\u001b[0m\u001b[0m\n\u001b[0m\u001b[1;32m      9\u001b[0m             \u001b[0mloss\u001b[0m \u001b[0;34m=\u001b[0m \u001b[0mlossFn\u001b[0m\u001b[0;34m(\u001b[0m\u001b[0moutputs\u001b[0m\u001b[0;34m,\u001b[0m \u001b[0mlabels\u001b[0m\u001b[0;34m)\u001b[0m\u001b[0;34m\u001b[0m\u001b[0;34m\u001b[0m\u001b[0m\n\u001b[1;32m     10\u001b[0m \u001b[0;34m\u001b[0m\u001b[0m\n",
            "\u001b[0;32m/usr/local/lib/python3.8/dist-packages/torch/nn/modules/module.py\u001b[0m in \u001b[0;36m_call_impl\u001b[0;34m(self, *input, **kwargs)\u001b[0m\n\u001b[1;32m   1192\u001b[0m         if not (self._backward_hooks or self._forward_hooks or self._forward_pre_hooks or _global_backward_hooks\n\u001b[1;32m   1193\u001b[0m                 or _global_forward_hooks or _global_forward_pre_hooks):\n\u001b[0;32m-> 1194\u001b[0;31m             \u001b[0;32mreturn\u001b[0m \u001b[0mforward_call\u001b[0m\u001b[0;34m(\u001b[0m\u001b[0;34m*\u001b[0m\u001b[0minput\u001b[0m\u001b[0;34m,\u001b[0m \u001b[0;34m**\u001b[0m\u001b[0mkwargs\u001b[0m\u001b[0;34m)\u001b[0m\u001b[0;34m\u001b[0m\u001b[0;34m\u001b[0m\u001b[0m\n\u001b[0m\u001b[1;32m   1195\u001b[0m         \u001b[0;31m# Do not call functions when jit is used\u001b[0m\u001b[0;34m\u001b[0m\u001b[0;34m\u001b[0m\u001b[0;34m\u001b[0m\u001b[0m\n\u001b[1;32m   1196\u001b[0m         \u001b[0mfull_backward_hooks\u001b[0m\u001b[0;34m,\u001b[0m \u001b[0mnon_full_backward_hooks\u001b[0m \u001b[0;34m=\u001b[0m \u001b[0;34m[\u001b[0m\u001b[0;34m]\u001b[0m\u001b[0;34m,\u001b[0m \u001b[0;34m[\u001b[0m\u001b[0;34m]\u001b[0m\u001b[0;34m\u001b[0m\u001b[0;34m\u001b[0m\u001b[0m\n",
            "\u001b[0;32m<ipython-input-3-e969be622dad>\u001b[0m in \u001b[0;36mforward\u001b[0;34m(self, x)\u001b[0m\n\u001b[1;32m     17\u001b[0m      \u001b[0;32mdef\u001b[0m \u001b[0mforward\u001b[0m\u001b[0;34m(\u001b[0m\u001b[0mself\u001b[0m\u001b[0;34m,\u001b[0m\u001b[0mx\u001b[0m\u001b[0;34m)\u001b[0m\u001b[0;34m:\u001b[0m\u001b[0;34m\u001b[0m\u001b[0;34m\u001b[0m\u001b[0m\n\u001b[1;32m     18\u001b[0m            \u001b[0mx1\u001b[0m\u001b[0;34m=\u001b[0m\u001b[0mself\u001b[0m\u001b[0;34m.\u001b[0m\u001b[0mfla\u001b[0m\u001b[0;34m(\u001b[0m\u001b[0mx\u001b[0m\u001b[0;34m)\u001b[0m\u001b[0;34m\u001b[0m\u001b[0;34m\u001b[0m\u001b[0m\n\u001b[0;32m---> 19\u001b[0;31m            \u001b[0;32mreturn\u001b[0m \u001b[0mself\u001b[0m\u001b[0;34m.\u001b[0m\u001b[0mnet\u001b[0m\u001b[0;34m(\u001b[0m\u001b[0mx1\u001b[0m\u001b[0;34m)\u001b[0m\u001b[0;34m\u001b[0m\u001b[0;34m\u001b[0m\u001b[0m\n\u001b[0m\u001b[1;32m     20\u001b[0m \u001b[0;34m\u001b[0m\u001b[0m\n\u001b[1;32m     21\u001b[0m \u001b[0mmodel\u001b[0m\u001b[0;34m=\u001b[0m\u001b[0mNet\u001b[0m\u001b[0;34m(\u001b[0m\u001b[0;34m)\u001b[0m\u001b[0;34m\u001b[0m\u001b[0;34m\u001b[0m\u001b[0m\n",
            "\u001b[0;32m/usr/local/lib/python3.8/dist-packages/torch/nn/modules/module.py\u001b[0m in \u001b[0;36m_call_impl\u001b[0;34m(self, *input, **kwargs)\u001b[0m\n\u001b[1;32m   1192\u001b[0m         if not (self._backward_hooks or self._forward_hooks or self._forward_pre_hooks or _global_backward_hooks\n\u001b[1;32m   1193\u001b[0m                 or _global_forward_hooks or _global_forward_pre_hooks):\n\u001b[0;32m-> 1194\u001b[0;31m             \u001b[0;32mreturn\u001b[0m \u001b[0mforward_call\u001b[0m\u001b[0;34m(\u001b[0m\u001b[0;34m*\u001b[0m\u001b[0minput\u001b[0m\u001b[0;34m,\u001b[0m \u001b[0;34m**\u001b[0m\u001b[0mkwargs\u001b[0m\u001b[0;34m)\u001b[0m\u001b[0;34m\u001b[0m\u001b[0;34m\u001b[0m\u001b[0m\n\u001b[0m\u001b[1;32m   1195\u001b[0m         \u001b[0;31m# Do not call functions when jit is used\u001b[0m\u001b[0;34m\u001b[0m\u001b[0;34m\u001b[0m\u001b[0;34m\u001b[0m\u001b[0m\n\u001b[1;32m   1196\u001b[0m         \u001b[0mfull_backward_hooks\u001b[0m\u001b[0;34m,\u001b[0m \u001b[0mnon_full_backward_hooks\u001b[0m \u001b[0;34m=\u001b[0m \u001b[0;34m[\u001b[0m\u001b[0;34m]\u001b[0m\u001b[0;34m,\u001b[0m \u001b[0;34m[\u001b[0m\u001b[0;34m]\u001b[0m\u001b[0;34m\u001b[0m\u001b[0;34m\u001b[0m\u001b[0m\n",
            "\u001b[0;32m/usr/local/lib/python3.8/dist-packages/torch/nn/modules/container.py\u001b[0m in \u001b[0;36mforward\u001b[0;34m(self, input)\u001b[0m\n\u001b[1;32m    202\u001b[0m     \u001b[0;32mdef\u001b[0m \u001b[0mforward\u001b[0m\u001b[0;34m(\u001b[0m\u001b[0mself\u001b[0m\u001b[0;34m,\u001b[0m \u001b[0minput\u001b[0m\u001b[0;34m)\u001b[0m\u001b[0;34m:\u001b[0m\u001b[0;34m\u001b[0m\u001b[0;34m\u001b[0m\u001b[0m\n\u001b[1;32m    203\u001b[0m         \u001b[0;32mfor\u001b[0m \u001b[0mmodule\u001b[0m \u001b[0;32min\u001b[0m \u001b[0mself\u001b[0m\u001b[0;34m:\u001b[0m\u001b[0;34m\u001b[0m\u001b[0;34m\u001b[0m\u001b[0m\n\u001b[0;32m--> 204\u001b[0;31m             \u001b[0minput\u001b[0m \u001b[0;34m=\u001b[0m \u001b[0mmodule\u001b[0m\u001b[0;34m(\u001b[0m\u001b[0minput\u001b[0m\u001b[0;34m)\u001b[0m\u001b[0;34m\u001b[0m\u001b[0;34m\u001b[0m\u001b[0m\n\u001b[0m\u001b[1;32m    205\u001b[0m         \u001b[0;32mreturn\u001b[0m \u001b[0minput\u001b[0m\u001b[0;34m\u001b[0m\u001b[0;34m\u001b[0m\u001b[0m\n\u001b[1;32m    206\u001b[0m \u001b[0;34m\u001b[0m\u001b[0m\n",
            "\u001b[0;32m/usr/local/lib/python3.8/dist-packages/torch/nn/modules/module.py\u001b[0m in \u001b[0;36m_call_impl\u001b[0;34m(self, *input, **kwargs)\u001b[0m\n\u001b[1;32m   1192\u001b[0m         if not (self._backward_hooks or self._forward_hooks or self._forward_pre_hooks or _global_backward_hooks\n\u001b[1;32m   1193\u001b[0m                 or _global_forward_hooks or _global_forward_pre_hooks):\n\u001b[0;32m-> 1194\u001b[0;31m             \u001b[0;32mreturn\u001b[0m \u001b[0mforward_call\u001b[0m\u001b[0;34m(\u001b[0m\u001b[0;34m*\u001b[0m\u001b[0minput\u001b[0m\u001b[0;34m,\u001b[0m \u001b[0;34m**\u001b[0m\u001b[0mkwargs\u001b[0m\u001b[0;34m)\u001b[0m\u001b[0;34m\u001b[0m\u001b[0;34m\u001b[0m\u001b[0m\n\u001b[0m\u001b[1;32m   1195\u001b[0m         \u001b[0;31m# Do not call functions when jit is used\u001b[0m\u001b[0;34m\u001b[0m\u001b[0;34m\u001b[0m\u001b[0;34m\u001b[0m\u001b[0m\n\u001b[1;32m   1196\u001b[0m         \u001b[0mfull_backward_hooks\u001b[0m\u001b[0;34m,\u001b[0m \u001b[0mnon_full_backward_hooks\u001b[0m \u001b[0;34m=\u001b[0m \u001b[0;34m[\u001b[0m\u001b[0;34m]\u001b[0m\u001b[0;34m,\u001b[0m \u001b[0;34m[\u001b[0m\u001b[0;34m]\u001b[0m\u001b[0;34m\u001b[0m\u001b[0;34m\u001b[0m\u001b[0m\n",
            "\u001b[0;32m/usr/local/lib/python3.8/dist-packages/torch/nn/modules/linear.py\u001b[0m in \u001b[0;36mforward\u001b[0;34m(self, input)\u001b[0m\n\u001b[1;32m    112\u001b[0m \u001b[0;34m\u001b[0m\u001b[0m\n\u001b[1;32m    113\u001b[0m     \u001b[0;32mdef\u001b[0m \u001b[0mforward\u001b[0m\u001b[0;34m(\u001b[0m\u001b[0mself\u001b[0m\u001b[0;34m,\u001b[0m \u001b[0minput\u001b[0m\u001b[0;34m:\u001b[0m \u001b[0mTensor\u001b[0m\u001b[0;34m)\u001b[0m \u001b[0;34m->\u001b[0m \u001b[0mTensor\u001b[0m\u001b[0;34m:\u001b[0m\u001b[0;34m\u001b[0m\u001b[0;34m\u001b[0m\u001b[0m\n\u001b[0;32m--> 114\u001b[0;31m         \u001b[0;32mreturn\u001b[0m \u001b[0mF\u001b[0m\u001b[0;34m.\u001b[0m\u001b[0mlinear\u001b[0m\u001b[0;34m(\u001b[0m\u001b[0minput\u001b[0m\u001b[0;34m,\u001b[0m \u001b[0mself\u001b[0m\u001b[0;34m.\u001b[0m\u001b[0mweight\u001b[0m\u001b[0;34m,\u001b[0m \u001b[0mself\u001b[0m\u001b[0;34m.\u001b[0m\u001b[0mbias\u001b[0m\u001b[0;34m)\u001b[0m\u001b[0;34m\u001b[0m\u001b[0;34m\u001b[0m\u001b[0m\n\u001b[0m\u001b[1;32m    115\u001b[0m \u001b[0;34m\u001b[0m\u001b[0m\n\u001b[1;32m    116\u001b[0m     \u001b[0;32mdef\u001b[0m \u001b[0mextra_repr\u001b[0m\u001b[0;34m(\u001b[0m\u001b[0mself\u001b[0m\u001b[0;34m)\u001b[0m \u001b[0;34m->\u001b[0m \u001b[0mstr\u001b[0m\u001b[0;34m:\u001b[0m\u001b[0;34m\u001b[0m\u001b[0;34m\u001b[0m\u001b[0m\n",
            "\u001b[0;31mKeyboardInterrupt\u001b[0m: "
          ]
        }
      ]
    },
    {
      "cell_type": "code",
      "source": [
        "\n",
        "def test_loop( model, loss_fn):\n",
        "    size = len(dataloader.dataset)\n",
        "    num_batches = len(dataloader)\n",
        "    test_loss, correct = 0, 0\n",
        "\n",
        "    with torch.no_grad():\n",
        "        for X, y in dataloader:\n",
        "            pred = model(X)\n",
        "            test_loss += loss_fn(pred, y).item()\n",
        "            correct += (pred.argmax(1) == y).type(torch.float).sum().item()\n",
        "\n",
        "    test_loss /= num_batches\n",
        "    correct /= size\n",
        "    print(f\"Test Error: \\n Accuracy: {(100*correct):>0.1f}%, Avg loss: {test_loss:>8f} \\n\")"
      ],
      "metadata": {
        "id": "MJe6MpY6lGjQ"
      },
      "execution_count": null,
      "outputs": []
    },
    {
      "cell_type": "code",
      "source": [
        "def test(model,lossFn):\n",
        "     size=203\n",
        "     numBatch=len(testDataset)\n",
        "     testLoss,correct=0,0\n",
        "     with torch.no_grad():\n",
        "          for x,y in testDataset:\n",
        "              pred=model(x)\n",
        "              testLoss+=lossFn(pred,y).item()\n",
        "              correct+=(pred.argmax(1)==y).type(torch.float).sum().item()\n",
        "     testLoss/=numBatch\n",
        "     correct/=203\n",
        "     print(f\"Test Error: \\n Accuracy: {(100*correct):>0.1f}%, Avg loss: {test_loss:>8f} \\n\")\n",
        "          "
      ],
      "metadata": {
        "id": "fbWl2L7qlUBz"
      },
      "execution_count": null,
      "outputs": []
    },
    {
      "cell_type": "code",
      "source": [
        "for i in range(30):\n",
        "    test(model,lossFn)"
      ],
      "metadata": {
        "colab": {
          "base_uri": "https://localhost:8080/",
          "height": 501
        },
        "id": "CKsysh7ulWHX",
        "outputId": "aee33ce3-6a96-4398-a905-2a97a7c3fec0"
      },
      "execution_count": null,
      "outputs": [
        {
          "output_type": "stream",
          "name": "stdout",
          "text": [
            "Test Error: \n",
            " Accuracy: 37.9%, Avg loss: 128.460659 \n",
            "\n",
            "Test Error: \n",
            " Accuracy: 37.9%, Avg loss: 128.460659 \n",
            "\n",
            "Test Error: \n",
            " Accuracy: 37.9%, Avg loss: 128.460659 \n",
            "\n"
          ]
        },
        {
          "output_type": "error",
          "ename": "KeyboardInterrupt",
          "evalue": "ignored",
          "traceback": [
            "\u001b[0;31m---------------------------------------------------------------------------\u001b[0m",
            "\u001b[0;31mKeyboardInterrupt\u001b[0m                         Traceback (most recent call last)",
            "\u001b[0;32m<ipython-input-29-a5c25f6fbc31>\u001b[0m in \u001b[0;36m<module>\u001b[0;34m\u001b[0m\n\u001b[1;32m      1\u001b[0m \u001b[0;32mfor\u001b[0m \u001b[0mi\u001b[0m \u001b[0;32min\u001b[0m \u001b[0mrange\u001b[0m\u001b[0;34m(\u001b[0m\u001b[0;36m30\u001b[0m\u001b[0;34m)\u001b[0m\u001b[0;34m:\u001b[0m\u001b[0;34m\u001b[0m\u001b[0;34m\u001b[0m\u001b[0m\n\u001b[0;32m----> 2\u001b[0;31m     \u001b[0mtest\u001b[0m\u001b[0;34m(\u001b[0m\u001b[0mmodel\u001b[0m\u001b[0;34m,\u001b[0m\u001b[0mlossFn\u001b[0m\u001b[0;34m)\u001b[0m\u001b[0;34m\u001b[0m\u001b[0;34m\u001b[0m\u001b[0m\n\u001b[0m",
            "\u001b[0;32m<ipython-input-28-f7f6ee3eaf0d>\u001b[0m in \u001b[0;36mtest\u001b[0;34m(model, lossFn)\u001b[0m\n\u001b[1;32m      5\u001b[0m      \u001b[0;32mwith\u001b[0m \u001b[0mtorch\u001b[0m\u001b[0;34m.\u001b[0m\u001b[0mno_grad\u001b[0m\u001b[0;34m(\u001b[0m\u001b[0;34m)\u001b[0m\u001b[0;34m:\u001b[0m\u001b[0;34m\u001b[0m\u001b[0;34m\u001b[0m\u001b[0m\n\u001b[1;32m      6\u001b[0m           \u001b[0;32mfor\u001b[0m \u001b[0mx\u001b[0m\u001b[0;34m,\u001b[0m\u001b[0my\u001b[0m \u001b[0;32min\u001b[0m \u001b[0mtestDataset\u001b[0m\u001b[0;34m:\u001b[0m\u001b[0;34m\u001b[0m\u001b[0;34m\u001b[0m\u001b[0m\n\u001b[0;32m----> 7\u001b[0;31m               \u001b[0mpred\u001b[0m\u001b[0;34m=\u001b[0m\u001b[0mmodel\u001b[0m\u001b[0;34m(\u001b[0m\u001b[0mx\u001b[0m\u001b[0;34m)\u001b[0m\u001b[0;34m\u001b[0m\u001b[0;34m\u001b[0m\u001b[0m\n\u001b[0m\u001b[1;32m      8\u001b[0m               \u001b[0mtestLoss\u001b[0m\u001b[0;34m+=\u001b[0m\u001b[0mlossFn\u001b[0m\u001b[0;34m(\u001b[0m\u001b[0mpred\u001b[0m\u001b[0;34m,\u001b[0m\u001b[0my\u001b[0m\u001b[0;34m)\u001b[0m\u001b[0;34m.\u001b[0m\u001b[0mitem\u001b[0m\u001b[0;34m(\u001b[0m\u001b[0;34m)\u001b[0m\u001b[0;34m\u001b[0m\u001b[0;34m\u001b[0m\u001b[0m\n\u001b[1;32m      9\u001b[0m               \u001b[0mcorrect\u001b[0m\u001b[0;34m+=\u001b[0m\u001b[0;34m(\u001b[0m\u001b[0mpred\u001b[0m\u001b[0;34m.\u001b[0m\u001b[0margmax\u001b[0m\u001b[0;34m(\u001b[0m\u001b[0;36m1\u001b[0m\u001b[0;34m)\u001b[0m\u001b[0;34m==\u001b[0m\u001b[0my\u001b[0m\u001b[0;34m)\u001b[0m\u001b[0;34m.\u001b[0m\u001b[0mtype\u001b[0m\u001b[0;34m(\u001b[0m\u001b[0mtorch\u001b[0m\u001b[0;34m.\u001b[0m\u001b[0mfloat\u001b[0m\u001b[0;34m)\u001b[0m\u001b[0;34m.\u001b[0m\u001b[0msum\u001b[0m\u001b[0;34m(\u001b[0m\u001b[0;34m)\u001b[0m\u001b[0;34m.\u001b[0m\u001b[0mitem\u001b[0m\u001b[0;34m(\u001b[0m\u001b[0;34m)\u001b[0m\u001b[0;34m\u001b[0m\u001b[0;34m\u001b[0m\u001b[0m\n",
            "\u001b[0;32m/usr/local/lib/python3.8/dist-packages/torch/nn/modules/module.py\u001b[0m in \u001b[0;36m_call_impl\u001b[0;34m(self, *input, **kwargs)\u001b[0m\n\u001b[1;32m   1192\u001b[0m         if not (self._backward_hooks or self._forward_hooks or self._forward_pre_hooks or _global_backward_hooks\n\u001b[1;32m   1193\u001b[0m                 or _global_forward_hooks or _global_forward_pre_hooks):\n\u001b[0;32m-> 1194\u001b[0;31m             \u001b[0;32mreturn\u001b[0m \u001b[0mforward_call\u001b[0m\u001b[0;34m(\u001b[0m\u001b[0;34m*\u001b[0m\u001b[0minput\u001b[0m\u001b[0;34m,\u001b[0m \u001b[0;34m**\u001b[0m\u001b[0mkwargs\u001b[0m\u001b[0;34m)\u001b[0m\u001b[0;34m\u001b[0m\u001b[0;34m\u001b[0m\u001b[0m\n\u001b[0m\u001b[1;32m   1195\u001b[0m         \u001b[0;31m# Do not call functions when jit is used\u001b[0m\u001b[0;34m\u001b[0m\u001b[0;34m\u001b[0m\u001b[0;34m\u001b[0m\u001b[0m\n\u001b[1;32m   1196\u001b[0m         \u001b[0mfull_backward_hooks\u001b[0m\u001b[0;34m,\u001b[0m \u001b[0mnon_full_backward_hooks\u001b[0m \u001b[0;34m=\u001b[0m \u001b[0;34m[\u001b[0m\u001b[0;34m]\u001b[0m\u001b[0;34m,\u001b[0m \u001b[0;34m[\u001b[0m\u001b[0;34m]\u001b[0m\u001b[0;34m\u001b[0m\u001b[0;34m\u001b[0m\u001b[0m\n",
            "\u001b[0;32m<ipython-input-3-e969be622dad>\u001b[0m in \u001b[0;36mforward\u001b[0;34m(self, x)\u001b[0m\n\u001b[1;32m     17\u001b[0m      \u001b[0;32mdef\u001b[0m \u001b[0mforward\u001b[0m\u001b[0;34m(\u001b[0m\u001b[0mself\u001b[0m\u001b[0;34m,\u001b[0m\u001b[0mx\u001b[0m\u001b[0;34m)\u001b[0m\u001b[0;34m:\u001b[0m\u001b[0;34m\u001b[0m\u001b[0;34m\u001b[0m\u001b[0m\n\u001b[1;32m     18\u001b[0m            \u001b[0mx1\u001b[0m\u001b[0;34m=\u001b[0m\u001b[0mself\u001b[0m\u001b[0;34m.\u001b[0m\u001b[0mfla\u001b[0m\u001b[0;34m(\u001b[0m\u001b[0mx\u001b[0m\u001b[0;34m)\u001b[0m\u001b[0;34m\u001b[0m\u001b[0;34m\u001b[0m\u001b[0m\n\u001b[0;32m---> 19\u001b[0;31m            \u001b[0;32mreturn\u001b[0m \u001b[0mself\u001b[0m\u001b[0;34m.\u001b[0m\u001b[0mnet\u001b[0m\u001b[0;34m(\u001b[0m\u001b[0mx1\u001b[0m\u001b[0;34m)\u001b[0m\u001b[0;34m\u001b[0m\u001b[0;34m\u001b[0m\u001b[0m\n\u001b[0m\u001b[1;32m     20\u001b[0m \u001b[0;34m\u001b[0m\u001b[0m\n\u001b[1;32m     21\u001b[0m \u001b[0mmodel\u001b[0m\u001b[0;34m=\u001b[0m\u001b[0mNet\u001b[0m\u001b[0;34m(\u001b[0m\u001b[0;34m)\u001b[0m\u001b[0;34m\u001b[0m\u001b[0;34m\u001b[0m\u001b[0m\n",
            "\u001b[0;32m/usr/local/lib/python3.8/dist-packages/torch/nn/modules/module.py\u001b[0m in \u001b[0;36m_call_impl\u001b[0;34m(self, *input, **kwargs)\u001b[0m\n\u001b[1;32m   1192\u001b[0m         if not (self._backward_hooks or self._forward_hooks or self._forward_pre_hooks or _global_backward_hooks\n\u001b[1;32m   1193\u001b[0m                 or _global_forward_hooks or _global_forward_pre_hooks):\n\u001b[0;32m-> 1194\u001b[0;31m             \u001b[0;32mreturn\u001b[0m \u001b[0mforward_call\u001b[0m\u001b[0;34m(\u001b[0m\u001b[0;34m*\u001b[0m\u001b[0minput\u001b[0m\u001b[0;34m,\u001b[0m \u001b[0;34m**\u001b[0m\u001b[0mkwargs\u001b[0m\u001b[0;34m)\u001b[0m\u001b[0;34m\u001b[0m\u001b[0;34m\u001b[0m\u001b[0m\n\u001b[0m\u001b[1;32m   1195\u001b[0m         \u001b[0;31m# Do not call functions when jit is used\u001b[0m\u001b[0;34m\u001b[0m\u001b[0;34m\u001b[0m\u001b[0;34m\u001b[0m\u001b[0m\n\u001b[1;32m   1196\u001b[0m         \u001b[0mfull_backward_hooks\u001b[0m\u001b[0;34m,\u001b[0m \u001b[0mnon_full_backward_hooks\u001b[0m \u001b[0;34m=\u001b[0m \u001b[0;34m[\u001b[0m\u001b[0;34m]\u001b[0m\u001b[0;34m,\u001b[0m \u001b[0;34m[\u001b[0m\u001b[0;34m]\u001b[0m\u001b[0;34m\u001b[0m\u001b[0;34m\u001b[0m\u001b[0m\n",
            "\u001b[0;32m/usr/local/lib/python3.8/dist-packages/torch/nn/modules/container.py\u001b[0m in \u001b[0;36mforward\u001b[0;34m(self, input)\u001b[0m\n\u001b[1;32m    202\u001b[0m     \u001b[0;32mdef\u001b[0m \u001b[0mforward\u001b[0m\u001b[0;34m(\u001b[0m\u001b[0mself\u001b[0m\u001b[0;34m,\u001b[0m \u001b[0minput\u001b[0m\u001b[0;34m)\u001b[0m\u001b[0;34m:\u001b[0m\u001b[0;34m\u001b[0m\u001b[0;34m\u001b[0m\u001b[0m\n\u001b[1;32m    203\u001b[0m         \u001b[0;32mfor\u001b[0m \u001b[0mmodule\u001b[0m \u001b[0;32min\u001b[0m \u001b[0mself\u001b[0m\u001b[0;34m:\u001b[0m\u001b[0;34m\u001b[0m\u001b[0;34m\u001b[0m\u001b[0m\n\u001b[0;32m--> 204\u001b[0;31m             \u001b[0minput\u001b[0m \u001b[0;34m=\u001b[0m \u001b[0mmodule\u001b[0m\u001b[0;34m(\u001b[0m\u001b[0minput\u001b[0m\u001b[0;34m)\u001b[0m\u001b[0;34m\u001b[0m\u001b[0;34m\u001b[0m\u001b[0m\n\u001b[0m\u001b[1;32m    205\u001b[0m         \u001b[0;32mreturn\u001b[0m \u001b[0minput\u001b[0m\u001b[0;34m\u001b[0m\u001b[0;34m\u001b[0m\u001b[0m\n\u001b[1;32m    206\u001b[0m \u001b[0;34m\u001b[0m\u001b[0m\n",
            "\u001b[0;32m/usr/local/lib/python3.8/dist-packages/torch/nn/modules/module.py\u001b[0m in \u001b[0;36m_call_impl\u001b[0;34m(self, *input, **kwargs)\u001b[0m\n\u001b[1;32m   1192\u001b[0m         if not (self._backward_hooks or self._forward_hooks or self._forward_pre_hooks or _global_backward_hooks\n\u001b[1;32m   1193\u001b[0m                 or _global_forward_hooks or _global_forward_pre_hooks):\n\u001b[0;32m-> 1194\u001b[0;31m             \u001b[0;32mreturn\u001b[0m \u001b[0mforward_call\u001b[0m\u001b[0;34m(\u001b[0m\u001b[0;34m*\u001b[0m\u001b[0minput\u001b[0m\u001b[0;34m,\u001b[0m \u001b[0;34m**\u001b[0m\u001b[0mkwargs\u001b[0m\u001b[0;34m)\u001b[0m\u001b[0;34m\u001b[0m\u001b[0;34m\u001b[0m\u001b[0m\n\u001b[0m\u001b[1;32m   1195\u001b[0m         \u001b[0;31m# Do not call functions when jit is used\u001b[0m\u001b[0;34m\u001b[0m\u001b[0;34m\u001b[0m\u001b[0;34m\u001b[0m\u001b[0m\n\u001b[1;32m   1196\u001b[0m         \u001b[0mfull_backward_hooks\u001b[0m\u001b[0;34m,\u001b[0m \u001b[0mnon_full_backward_hooks\u001b[0m \u001b[0;34m=\u001b[0m \u001b[0;34m[\u001b[0m\u001b[0;34m]\u001b[0m\u001b[0;34m,\u001b[0m \u001b[0;34m[\u001b[0m\u001b[0;34m]\u001b[0m\u001b[0;34m\u001b[0m\u001b[0;34m\u001b[0m\u001b[0m\n",
            "\u001b[0;32m/usr/local/lib/python3.8/dist-packages/torch/nn/modules/linear.py\u001b[0m in \u001b[0;36mforward\u001b[0;34m(self, input)\u001b[0m\n\u001b[1;32m    112\u001b[0m \u001b[0;34m\u001b[0m\u001b[0m\n\u001b[1;32m    113\u001b[0m     \u001b[0;32mdef\u001b[0m \u001b[0mforward\u001b[0m\u001b[0;34m(\u001b[0m\u001b[0mself\u001b[0m\u001b[0;34m,\u001b[0m \u001b[0minput\u001b[0m\u001b[0;34m:\u001b[0m \u001b[0mTensor\u001b[0m\u001b[0;34m)\u001b[0m \u001b[0;34m->\u001b[0m \u001b[0mTensor\u001b[0m\u001b[0;34m:\u001b[0m\u001b[0;34m\u001b[0m\u001b[0;34m\u001b[0m\u001b[0m\n\u001b[0;32m--> 114\u001b[0;31m         \u001b[0;32mreturn\u001b[0m \u001b[0mF\u001b[0m\u001b[0;34m.\u001b[0m\u001b[0mlinear\u001b[0m\u001b[0;34m(\u001b[0m\u001b[0minput\u001b[0m\u001b[0;34m,\u001b[0m \u001b[0mself\u001b[0m\u001b[0;34m.\u001b[0m\u001b[0mweight\u001b[0m\u001b[0;34m,\u001b[0m \u001b[0mself\u001b[0m\u001b[0;34m.\u001b[0m\u001b[0mbias\u001b[0m\u001b[0;34m)\u001b[0m\u001b[0;34m\u001b[0m\u001b[0;34m\u001b[0m\u001b[0m\n\u001b[0m\u001b[1;32m    115\u001b[0m \u001b[0;34m\u001b[0m\u001b[0m\n\u001b[1;32m    116\u001b[0m     \u001b[0;32mdef\u001b[0m \u001b[0mextra_repr\u001b[0m\u001b[0;34m(\u001b[0m\u001b[0mself\u001b[0m\u001b[0;34m)\u001b[0m \u001b[0;34m->\u001b[0m \u001b[0mstr\u001b[0m\u001b[0;34m:\u001b[0m\u001b[0;34m\u001b[0m\u001b[0;34m\u001b[0m\u001b[0m\n",
            "\u001b[0;31mKeyboardInterrupt\u001b[0m: "
          ]
        }
      ]
    }
  ],
  "metadata": {
    "colab": {
      "provenance": []
    },
    "gpuClass": "standard",
    "kernelspec": {
      "display_name": "Python 3",
      "name": "python3"
    },
    "language_info": {
      "name": "python"
    },
    "widgets": {
      "application/vnd.jupyter.widget-state+json": {
        "9c9f66dc67c34be58097a11086504317": {
          "model_module": "@jupyter-widgets/controls",
          "model_name": "VBoxModel",
          "model_module_version": "1.5.0",
          "state": {
            "_dom_classes": [],
            "_model_module": "@jupyter-widgets/controls",
            "_model_module_version": "1.5.0",
            "_model_name": "VBoxModel",
            "_view_count": null,
            "_view_module": "@jupyter-widgets/controls",
            "_view_module_version": "1.5.0",
            "_view_name": "VBoxView",
            "box_style": "",
            "children": [
              "IPY_MODEL_8b318031a2e24a3a996f4163ab80fe9c",
              "IPY_MODEL_b868aa5f7e204672858f7083580023c6"
            ],
            "layout": "IPY_MODEL_5463c61031f74057ae7e63af71cf4c0b"
          }
        },
        "8b318031a2e24a3a996f4163ab80fe9c": {
          "model_module": "@jupyter-widgets/controls",
          "model_name": "LabelModel",
          "model_module_version": "1.5.0",
          "state": {
            "_dom_classes": [],
            "_model_module": "@jupyter-widgets/controls",
            "_model_module_version": "1.5.0",
            "_model_name": "LabelModel",
            "_view_count": null,
            "_view_module": "@jupyter-widgets/controls",
            "_view_module_version": "1.5.0",
            "_view_name": "LabelView",
            "description": "",
            "description_tooltip": null,
            "layout": "IPY_MODEL_dd75b63ed52645368ef776ac01854676",
            "placeholder": "​",
            "style": "IPY_MODEL_1beff2ad60e64282bc130772b5b3e01a",
            "value": "0.001 MB of 0.001 MB uploaded (0.000 MB deduped)\r"
          }
        },
        "b868aa5f7e204672858f7083580023c6": {
          "model_module": "@jupyter-widgets/controls",
          "model_name": "FloatProgressModel",
          "model_module_version": "1.5.0",
          "state": {
            "_dom_classes": [],
            "_model_module": "@jupyter-widgets/controls",
            "_model_module_version": "1.5.0",
            "_model_name": "FloatProgressModel",
            "_view_count": null,
            "_view_module": "@jupyter-widgets/controls",
            "_view_module_version": "1.5.0",
            "_view_name": "ProgressView",
            "bar_style": "",
            "description": "",
            "description_tooltip": null,
            "layout": "IPY_MODEL_6464287c2ace4ceab95746fa35de1315",
            "max": 1,
            "min": 0,
            "orientation": "horizontal",
            "style": "IPY_MODEL_de07a6292e104a68a6e42abb5dfb7757",
            "value": 1
          }
        },
        "5463c61031f74057ae7e63af71cf4c0b": {
          "model_module": "@jupyter-widgets/base",
          "model_name": "LayoutModel",
          "model_module_version": "1.2.0",
          "state": {
            "_model_module": "@jupyter-widgets/base",
            "_model_module_version": "1.2.0",
            "_model_name": "LayoutModel",
            "_view_count": null,
            "_view_module": "@jupyter-widgets/base",
            "_view_module_version": "1.2.0",
            "_view_name": "LayoutView",
            "align_content": null,
            "align_items": null,
            "align_self": null,
            "border": null,
            "bottom": null,
            "display": null,
            "flex": null,
            "flex_flow": null,
            "grid_area": null,
            "grid_auto_columns": null,
            "grid_auto_flow": null,
            "grid_auto_rows": null,
            "grid_column": null,
            "grid_gap": null,
            "grid_row": null,
            "grid_template_areas": null,
            "grid_template_columns": null,
            "grid_template_rows": null,
            "height": null,
            "justify_content": null,
            "justify_items": null,
            "left": null,
            "margin": null,
            "max_height": null,
            "max_width": null,
            "min_height": null,
            "min_width": null,
            "object_fit": null,
            "object_position": null,
            "order": null,
            "overflow": null,
            "overflow_x": null,
            "overflow_y": null,
            "padding": null,
            "right": null,
            "top": null,
            "visibility": null,
            "width": null
          }
        },
        "dd75b63ed52645368ef776ac01854676": {
          "model_module": "@jupyter-widgets/base",
          "model_name": "LayoutModel",
          "model_module_version": "1.2.0",
          "state": {
            "_model_module": "@jupyter-widgets/base",
            "_model_module_version": "1.2.0",
            "_model_name": "LayoutModel",
            "_view_count": null,
            "_view_module": "@jupyter-widgets/base",
            "_view_module_version": "1.2.0",
            "_view_name": "LayoutView",
            "align_content": null,
            "align_items": null,
            "align_self": null,
            "border": null,
            "bottom": null,
            "display": null,
            "flex": null,
            "flex_flow": null,
            "grid_area": null,
            "grid_auto_columns": null,
            "grid_auto_flow": null,
            "grid_auto_rows": null,
            "grid_column": null,
            "grid_gap": null,
            "grid_row": null,
            "grid_template_areas": null,
            "grid_template_columns": null,
            "grid_template_rows": null,
            "height": null,
            "justify_content": null,
            "justify_items": null,
            "left": null,
            "margin": null,
            "max_height": null,
            "max_width": null,
            "min_height": null,
            "min_width": null,
            "object_fit": null,
            "object_position": null,
            "order": null,
            "overflow": null,
            "overflow_x": null,
            "overflow_y": null,
            "padding": null,
            "right": null,
            "top": null,
            "visibility": null,
            "width": null
          }
        },
        "1beff2ad60e64282bc130772b5b3e01a": {
          "model_module": "@jupyter-widgets/controls",
          "model_name": "DescriptionStyleModel",
          "model_module_version": "1.5.0",
          "state": {
            "_model_module": "@jupyter-widgets/controls",
            "_model_module_version": "1.5.0",
            "_model_name": "DescriptionStyleModel",
            "_view_count": null,
            "_view_module": "@jupyter-widgets/base",
            "_view_module_version": "1.2.0",
            "_view_name": "StyleView",
            "description_width": ""
          }
        },
        "6464287c2ace4ceab95746fa35de1315": {
          "model_module": "@jupyter-widgets/base",
          "model_name": "LayoutModel",
          "model_module_version": "1.2.0",
          "state": {
            "_model_module": "@jupyter-widgets/base",
            "_model_module_version": "1.2.0",
            "_model_name": "LayoutModel",
            "_view_count": null,
            "_view_module": "@jupyter-widgets/base",
            "_view_module_version": "1.2.0",
            "_view_name": "LayoutView",
            "align_content": null,
            "align_items": null,
            "align_self": null,
            "border": null,
            "bottom": null,
            "display": null,
            "flex": null,
            "flex_flow": null,
            "grid_area": null,
            "grid_auto_columns": null,
            "grid_auto_flow": null,
            "grid_auto_rows": null,
            "grid_column": null,
            "grid_gap": null,
            "grid_row": null,
            "grid_template_areas": null,
            "grid_template_columns": null,
            "grid_template_rows": null,
            "height": null,
            "justify_content": null,
            "justify_items": null,
            "left": null,
            "margin": null,
            "max_height": null,
            "max_width": null,
            "min_height": null,
            "min_width": null,
            "object_fit": null,
            "object_position": null,
            "order": null,
            "overflow": null,
            "overflow_x": null,
            "overflow_y": null,
            "padding": null,
            "right": null,
            "top": null,
            "visibility": null,
            "width": null
          }
        },
        "de07a6292e104a68a6e42abb5dfb7757": {
          "model_module": "@jupyter-widgets/controls",
          "model_name": "ProgressStyleModel",
          "model_module_version": "1.5.0",
          "state": {
            "_model_module": "@jupyter-widgets/controls",
            "_model_module_version": "1.5.0",
            "_model_name": "ProgressStyleModel",
            "_view_count": null,
            "_view_module": "@jupyter-widgets/base",
            "_view_module_version": "1.2.0",
            "_view_name": "StyleView",
            "bar_color": null,
            "description_width": ""
          }
        }
      }
    }
  },
  "nbformat": 4,
  "nbformat_minor": 0
}